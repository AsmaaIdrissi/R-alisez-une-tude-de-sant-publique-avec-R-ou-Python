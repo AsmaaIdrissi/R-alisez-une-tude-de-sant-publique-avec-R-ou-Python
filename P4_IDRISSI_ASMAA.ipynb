{
 "cells": [
  {
   "cell_type": "markdown",
   "id": "a5046931",
   "metadata": {
    "slideshow": {
     "slide_type": "slide"
    }
   },
   "source": [
    "# Réalisez une étude de santé publique avec Python\n",
    "_______________________________________________________________________________________________________________________________\n",
    "\n",
    "## Rappel du context\n",
    "\n",
    "J'ai integré en tant que data analyste, l'équipe de chercheurs de l'Organisation des Nations Unies pour l'alimentation et l'agriculture(FAO),l'un des organes qui compose l'ONU et dont l'objectif est d' « aider à construire un monde libéré de la faim ».\n",
    "\n",
    "\n",
    "Mon équipe est chargée de réaliser une étude de grande ampleur sur le thème de la sous-nutrition mondiale pendant 2017.\n"
   ]
  },
  {
   "cell_type": "markdown",
   "id": "4a793390",
   "metadata": {
    "slideshow": {
     "slide_type": "subslide"
    }
   },
   "source": [
    "Le problème de la faim est complexe et peut avoir de multiples causes, différentes selon les pays. L’étape préliminaire de cette étude sera donc d’établir un “état de l’art” des recherches déjà publiées, mais également de mener une étude statistique destinée à orienter les recherches vers des pays particuliers, et de mettre en lumière différentes causes de la faim."
   ]
  },
  {
   "cell_type": "markdown",
   "id": "ceb91aa3",
   "metadata": {
    "slideshow": {
     "slide_type": "slide"
    }
   },
   "source": [
    "##  La population mondiale en 2017 selon les données de la FAO"
   ]
  },
  {
   "cell_type": "code",
   "execution_count": 1,
   "id": "311cfe04",
   "metadata": {
    "slideshow": {
     "slide_type": "skip"
    }
   },
   "outputs": [],
   "source": [
    "#Importation des librairies Numpy et Pandas\n",
    "import numpy as np\n",
    "import pandas as pd\n",
    "import matplotlib.pyplot as plt"
   ]
  },
  {
   "cell_type": "code",
   "execution_count": 2,
   "id": "b345dfa1",
   "metadata": {
    "slideshow": {
     "slide_type": "skip"
    }
   },
   "outputs": [
    {
     "data": {
      "text/html": [
       "<div>\n",
       "<style scoped>\n",
       "    .dataframe tbody tr th:only-of-type {\n",
       "        vertical-align: middle;\n",
       "    }\n",
       "\n",
       "    .dataframe tbody tr th {\n",
       "        vertical-align: top;\n",
       "    }\n",
       "\n",
       "    .dataframe thead th {\n",
       "        text-align: right;\n",
       "    }\n",
       "</style>\n",
       "<table border=\"1\" class=\"dataframe\">\n",
       "  <thead>\n",
       "    <tr style=\"text-align: right;\">\n",
       "      <th></th>\n",
       "      <th>Zone</th>\n",
       "      <th>Année</th>\n",
       "      <th>Valeur</th>\n",
       "    </tr>\n",
       "  </thead>\n",
       "  <tbody>\n",
       "    <tr>\n",
       "      <th>0</th>\n",
       "      <td>Afghanistan</td>\n",
       "      <td>2013</td>\n",
       "      <td>32269.589</td>\n",
       "    </tr>\n",
       "    <tr>\n",
       "      <th>1</th>\n",
       "      <td>Afghanistan</td>\n",
       "      <td>2014</td>\n",
       "      <td>33370.794</td>\n",
       "    </tr>\n",
       "    <tr>\n",
       "      <th>2</th>\n",
       "      <td>Afghanistan</td>\n",
       "      <td>2015</td>\n",
       "      <td>34413.603</td>\n",
       "    </tr>\n",
       "    <tr>\n",
       "      <th>3</th>\n",
       "      <td>Afghanistan</td>\n",
       "      <td>2016</td>\n",
       "      <td>35383.032</td>\n",
       "    </tr>\n",
       "    <tr>\n",
       "      <th>4</th>\n",
       "      <td>Afghanistan</td>\n",
       "      <td>2017</td>\n",
       "      <td>36296.113</td>\n",
       "    </tr>\n",
       "    <tr>\n",
       "      <th>5</th>\n",
       "      <td>Afghanistan</td>\n",
       "      <td>2018</td>\n",
       "      <td>37171.921</td>\n",
       "    </tr>\n",
       "    <tr>\n",
       "      <th>6</th>\n",
       "      <td>Afrique du Sud</td>\n",
       "      <td>2013</td>\n",
       "      <td>53687.121</td>\n",
       "    </tr>\n",
       "    <tr>\n",
       "      <th>7</th>\n",
       "      <td>Afrique du Sud</td>\n",
       "      <td>2014</td>\n",
       "      <td>54544.186</td>\n",
       "    </tr>\n",
       "    <tr>\n",
       "      <th>8</th>\n",
       "      <td>Afrique du Sud</td>\n",
       "      <td>2015</td>\n",
       "      <td>55386.367</td>\n",
       "    </tr>\n",
       "    <tr>\n",
       "      <th>9</th>\n",
       "      <td>Afrique du Sud</td>\n",
       "      <td>2016</td>\n",
       "      <td>56207.646</td>\n",
       "    </tr>\n",
       "  </tbody>\n",
       "</table>\n",
       "</div>"
      ],
      "text/plain": [
       "             Zone  Année     Valeur\n",
       "0     Afghanistan   2013  32269.589\n",
       "1     Afghanistan   2014  33370.794\n",
       "2     Afghanistan   2015  34413.603\n",
       "3     Afghanistan   2016  35383.032\n",
       "4     Afghanistan   2017  36296.113\n",
       "5     Afghanistan   2018  37171.921\n",
       "6  Afrique du Sud   2013  53687.121\n",
       "7  Afrique du Sud   2014  54544.186\n",
       "8  Afrique du Sud   2015  55386.367\n",
       "9  Afrique du Sud   2016  56207.646"
      ]
     },
     "execution_count": 2,
     "metadata": {},
     "output_type": "execute_result"
    }
   ],
   "source": [
    "#Chargement du dataframe de la population mondiale, fichier 'population.csv'\n",
    "population = pd.read_csv('population.csv')\n",
    "population.head(10)"
   ]
  },
  {
   "cell_type": "code",
   "execution_count": 3,
   "id": "e8e6f2d1",
   "metadata": {
    "slideshow": {
     "slide_type": "fragment"
    }
   },
   "outputs": [
    {
     "data": {
      "text/plain": [
       "7548134111.0"
      ]
     },
     "execution_count": 3,
     "metadata": {},
     "output_type": "execute_result"
    }
   ],
   "source": [
    "#Population Mondiale pour l'année 2017\n",
    "population_mondiale = (population['Valeur'][population['Année']==2017]*1000).sum()\n",
    "population_mondiale"
   ]
  },
  {
   "cell_type": "markdown",
   "id": "d4262d65",
   "metadata": {
    "slideshow": {
     "slide_type": "fragment"
    }
   },
   "source": [
    "**7,5 milliards de personnes en 2017.** \n",
    "\n",
    "L'estimation est totalement cohérente face au chiffre actuel 7,87 milliards en 2021."
   ]
  },
  {
   "cell_type": "code",
   "execution_count": 4,
   "id": "31f3df54",
   "metadata": {
    "scrolled": true,
    "slideshow": {
     "slide_type": "skip"
    }
   },
   "outputs": [
    {
     "data": {
      "text/html": [
       "<div>\n",
       "<style scoped>\n",
       "    .dataframe tbody tr th:only-of-type {\n",
       "        vertical-align: middle;\n",
       "    }\n",
       "\n",
       "    .dataframe tbody tr th {\n",
       "        vertical-align: top;\n",
       "    }\n",
       "\n",
       "    .dataframe thead th {\n",
       "        text-align: right;\n",
       "    }\n",
       "</style>\n",
       "<table border=\"1\" class=\"dataframe\">\n",
       "  <thead>\n",
       "    <tr style=\"text-align: right;\">\n",
       "      <th></th>\n",
       "      <th>Zone</th>\n",
       "      <th>Année</th>\n",
       "      <th>Valeur</th>\n",
       "    </tr>\n",
       "  </thead>\n",
       "  <tbody>\n",
       "    <tr>\n",
       "      <th>0</th>\n",
       "      <td>Afghanistan</td>\n",
       "      <td>2012-2014</td>\n",
       "      <td>8.6</td>\n",
       "    </tr>\n",
       "    <tr>\n",
       "      <th>1</th>\n",
       "      <td>Afghanistan</td>\n",
       "      <td>2013-2015</td>\n",
       "      <td>8.8</td>\n",
       "    </tr>\n",
       "    <tr>\n",
       "      <th>2</th>\n",
       "      <td>Afghanistan</td>\n",
       "      <td>2014-2016</td>\n",
       "      <td>8.9</td>\n",
       "    </tr>\n",
       "    <tr>\n",
       "      <th>3</th>\n",
       "      <td>Afghanistan</td>\n",
       "      <td>2015-2017</td>\n",
       "      <td>9.7</td>\n",
       "    </tr>\n",
       "    <tr>\n",
       "      <th>4</th>\n",
       "      <td>Afghanistan</td>\n",
       "      <td>2016-2018</td>\n",
       "      <td>10.5</td>\n",
       "    </tr>\n",
       "    <tr>\n",
       "      <th>5</th>\n",
       "      <td>Afghanistan</td>\n",
       "      <td>2017-2019</td>\n",
       "      <td>11.1</td>\n",
       "    </tr>\n",
       "    <tr>\n",
       "      <th>6</th>\n",
       "      <td>Afrique du Sud</td>\n",
       "      <td>2012-2014</td>\n",
       "      <td>2.2</td>\n",
       "    </tr>\n",
       "    <tr>\n",
       "      <th>7</th>\n",
       "      <td>Afrique du Sud</td>\n",
       "      <td>2013-2015</td>\n",
       "      <td>2.5</td>\n",
       "    </tr>\n",
       "    <tr>\n",
       "      <th>8</th>\n",
       "      <td>Afrique du Sud</td>\n",
       "      <td>2014-2016</td>\n",
       "      <td>2.8</td>\n",
       "    </tr>\n",
       "    <tr>\n",
       "      <th>9</th>\n",
       "      <td>Afrique du Sud</td>\n",
       "      <td>2015-2017</td>\n",
       "      <td>3</td>\n",
       "    </tr>\n",
       "  </tbody>\n",
       "</table>\n",
       "</div>"
      ],
      "text/plain": [
       "             Zone      Année Valeur\n",
       "0     Afghanistan  2012-2014    8.6\n",
       "1     Afghanistan  2013-2015    8.8\n",
       "2     Afghanistan  2014-2016    8.9\n",
       "3     Afghanistan  2015-2017    9.7\n",
       "4     Afghanistan  2016-2018   10.5\n",
       "5     Afghanistan  2017-2019   11.1\n",
       "6  Afrique du Sud  2012-2014    2.2\n",
       "7  Afrique du Sud  2013-2015    2.5\n",
       "8  Afrique du Sud  2014-2016    2.8\n",
       "9  Afrique du Sud  2015-2017      3"
      ]
     },
     "execution_count": 4,
     "metadata": {},
     "output_type": "execute_result"
    }
   ],
   "source": [
    "# creation de la dataframe df_sousnut apartir du fichier sous_nutrition.csv\n",
    "df_sousnut=pd.read_csv('sous_nutrition.csv')\n",
    "df_sousnut.head(10)"
   ]
  },
  {
   "cell_type": "markdown",
   "id": "7ddb22e6",
   "metadata": {
    "slideshow": {
     "slide_type": "subslide"
    }
   },
   "source": [
    "## Estimation de la population mondiale étant en sous-nutrition en 2017\n",
    "\n"
   ]
  },
  {
   "cell_type": "code",
   "execution_count": 5,
   "id": "30ffd5f7",
   "metadata": {
    "slideshow": {
     "slide_type": "skip"
    }
   },
   "outputs": [],
   "source": [
    "#Les valeurs de population sont des strings, je fais un changement vers des floats\n",
    "#Les valeurs <0.1 seront considérées comme nulles dans nos calculs\n",
    "df_sousnut['Valeur'] = df_sousnut['Valeur'].replace('<0.1', 0)\n",
    "df_sousnut['Valeur'] = df_sousnut['Valeur'].astype('float64')"
   ]
  },
  {
   "cell_type": "code",
   "execution_count": 6,
   "id": "ba59c29c",
   "metadata": {
    "slideshow": {
     "slide_type": "fragment"
    }
   },
   "outputs": [
    {
     "data": {
      "text/plain": [
       "535700000.0"
      ]
     },
     "execution_count": 6,
     "metadata": {},
     "output_type": "execute_result"
    }
   ],
   "source": [
    "#Population Mondiale pour l'année 2017\n",
    "pop_sousnut17 = df_sousnut['Valeur'][df_sousnut['Année'] == '2016-2018'].sum()\n",
    "pop_sousnut17 = round(pop_sousnut17 *1e6,2)\n",
    "pop_sousnut17"
   ]
  },
  {
   "cell_type": "markdown",
   "id": "1a7d7d2b",
   "metadata": {
    "slideshow": {
     "slide_type": "fragment"
    }
   },
   "source": [
    "535 millions de personnes en 2017 sont en sous nutrition"
   ]
  },
  {
   "cell_type": "markdown",
   "id": "719acd43",
   "metadata": {
    "slideshow": {
     "slide_type": "slide"
    }
   },
   "source": [
    "## La proportion des personne en sous nutrition "
   ]
  },
  {
   "cell_type": "code",
   "execution_count": 7,
   "id": "943a2b38",
   "metadata": {
    "slideshow": {
     "slide_type": "fragment"
    }
   },
   "outputs": [
    {
     "data": {
      "text/plain": [
       "7.1"
      ]
     },
     "execution_count": 7,
     "metadata": {},
     "output_type": "execute_result"
    }
   ],
   "source": [
    "proportion_pop_sousnut2017 = round(pop_sousnut17 / population_mondiale * 100, 2)\n",
    "proportion_pop_sousnut2017"
   ]
  },
  {
   "cell_type": "markdown",
   "id": "2b90a5a9",
   "metadata": {
    "slideshow": {
     "slide_type": "fragment"
    }
   },
   "source": [
    "**Soit 7,1% de la population mondiale est en sous nutrition en 2017.**\n",
    "\n",
    "Contre 8,4% en 2019 et 9,9% en 2020 de la population mondiale était en situation de sous-alimentation."
   ]
  },
  {
   "cell_type": "code",
   "execution_count": 8,
   "id": "8158de3c",
   "metadata": {
    "slideshow": {
     "slide_type": "slide"
    }
   },
   "outputs": [
    {
     "data": {
      "text/plain": [
       "<matplotlib.legend.Legend at 0x228c75b15b0>"
      ]
     },
     "execution_count": 8,
     "metadata": {},
     "output_type": "execute_result"
    },
    {
     "data": {
      "image/png": "[encoded data removed]",
      "text/plain": [
       "<Figure size 576x576 with 1 Axes>"
      ]
     },
     "metadata": {},
     "output_type": "display_data"
    }
   ],
   "source": [
    "plt.figure(figsize = (8, 8))\n",
    "x = [14.09, 1.0769]\n",
    "plt.pie(x, labels = ['la proportion des personne en securité nutritionnel', 'la proportion des personne en sous-nutrition'],\n",
    "           colors = ['green', 'red'],\n",
    "           explode = [0, 0.4],\n",
    "           autopct = lambda x: str(round(x, 2)) + '%',\n",
    "           pctdistance = 0.6, labeldistance = 1.6,\n",
    "           shadow = True)\n",
    "plt.legend()"
   ]
  },
  {
   "cell_type": "markdown",
   "id": "9ffeae66",
   "metadata": {
    "slideshow": {
     "slide_type": "slide"
    }
   },
   "source": [
    "## Les pays pour lesquels la proportion de personnes sous-alimentées est la plus forte en 2017"
   ]
  },
  {
   "cell_type": "code",
   "execution_count": 9,
   "id": "929e95ad",
   "metadata": {
    "slideshow": {
     "slide_type": "skip"
    }
   },
   "outputs": [
    {
     "data": {
      "text/html": [
       "<div>\n",
       "<style scoped>\n",
       "    .dataframe tbody tr th:only-of-type {\n",
       "        vertical-align: middle;\n",
       "    }\n",
       "\n",
       "    .dataframe tbody tr th {\n",
       "        vertical-align: top;\n",
       "    }\n",
       "\n",
       "    .dataframe thead th {\n",
       "        text-align: right;\n",
       "    }\n",
       "</style>\n",
       "<table border=\"1\" class=\"dataframe\">\n",
       "  <thead>\n",
       "    <tr style=\"text-align: right;\">\n",
       "      <th></th>\n",
       "      <th>Zone</th>\n",
       "      <th>Année</th>\n",
       "      <th>Valeur_Sousnut</th>\n",
       "    </tr>\n",
       "  </thead>\n",
       "  <tbody>\n",
       "    <tr>\n",
       "      <th>4</th>\n",
       "      <td>Afghanistan</td>\n",
       "      <td>2016-2018</td>\n",
       "      <td>10500.0</td>\n",
       "    </tr>\n",
       "    <tr>\n",
       "      <th>10</th>\n",
       "      <td>Afrique du Sud</td>\n",
       "      <td>2016-2018</td>\n",
       "      <td>3100.0</td>\n",
       "    </tr>\n",
       "    <tr>\n",
       "      <th>16</th>\n",
       "      <td>Albanie</td>\n",
       "      <td>2016-2018</td>\n",
       "      <td>100.0</td>\n",
       "    </tr>\n",
       "    <tr>\n",
       "      <th>22</th>\n",
       "      <td>Algérie</td>\n",
       "      <td>2016-2018</td>\n",
       "      <td>1300.0</td>\n",
       "    </tr>\n",
       "    <tr>\n",
       "      <th>40</th>\n",
       "      <td>Angola</td>\n",
       "      <td>2016-2018</td>\n",
       "      <td>5800.0</td>\n",
       "    </tr>\n",
       "  </tbody>\n",
       "</table>\n",
       "</div>"
      ],
      "text/plain": [
       "              Zone      Année  Valeur_Sousnut\n",
       "4      Afghanistan  2016-2018         10500.0\n",
       "10  Afrique du Sud  2016-2018          3100.0\n",
       "16         Albanie  2016-2018           100.0\n",
       "22         Algérie  2016-2018          1300.0\n",
       "40          Angola  2016-2018          5800.0"
      ]
     },
     "execution_count": 9,
     "metadata": {},
     "output_type": "execute_result"
    }
   ],
   "source": [
    "df_sousnut_pays=df_sousnut[df_sousnut['Année']=='2016-2018']\n",
    "df_sousnut_pays=df_sousnut_pays.dropna()\n",
    "df_sousnut_pays['Valeur']=df_sousnut_pays['Valeur']*1000\n",
    "df_sousnut_pays.rename(columns={'Valeur': 'Valeur_Sousnut'}, inplace=True)\n",
    "df_sousnut_pays.head()"
   ]
  },
  {
   "cell_type": "code",
   "execution_count": 10,
   "id": "264015b3",
   "metadata": {
    "slideshow": {
     "slide_type": "skip"
    }
   },
   "outputs": [
    {
     "data": {
      "text/html": [
       "<div>\n",
       "<style scoped>\n",
       "    .dataframe tbody tr th:only-of-type {\n",
       "        vertical-align: middle;\n",
       "    }\n",
       "\n",
       "    .dataframe tbody tr th {\n",
       "        vertical-align: top;\n",
       "    }\n",
       "\n",
       "    .dataframe thead th {\n",
       "        text-align: right;\n",
       "    }\n",
       "</style>\n",
       "<table border=\"1\" class=\"dataframe\">\n",
       "  <thead>\n",
       "    <tr style=\"text-align: right;\">\n",
       "      <th></th>\n",
       "      <th>Zone</th>\n",
       "      <th>Année</th>\n",
       "      <th>Valeur</th>\n",
       "    </tr>\n",
       "  </thead>\n",
       "  <tbody>\n",
       "    <tr>\n",
       "      <th>4</th>\n",
       "      <td>Afghanistan</td>\n",
       "      <td>2017</td>\n",
       "      <td>36296.113</td>\n",
       "    </tr>\n",
       "    <tr>\n",
       "      <th>10</th>\n",
       "      <td>Afrique du Sud</td>\n",
       "      <td>2017</td>\n",
       "      <td>57009.756</td>\n",
       "    </tr>\n",
       "    <tr>\n",
       "      <th>16</th>\n",
       "      <td>Albanie</td>\n",
       "      <td>2017</td>\n",
       "      <td>2884.169</td>\n",
       "    </tr>\n",
       "    <tr>\n",
       "      <th>22</th>\n",
       "      <td>Algérie</td>\n",
       "      <td>2017</td>\n",
       "      <td>41389.189</td>\n",
       "    </tr>\n",
       "    <tr>\n",
       "      <th>28</th>\n",
       "      <td>Allemagne</td>\n",
       "      <td>2017</td>\n",
       "      <td>82658.409</td>\n",
       "    </tr>\n",
       "  </tbody>\n",
       "</table>\n",
       "</div>"
      ],
      "text/plain": [
       "              Zone  Année     Valeur\n",
       "4      Afghanistan   2017  36296.113\n",
       "10  Afrique du Sud   2017  57009.756\n",
       "16         Albanie   2017   2884.169\n",
       "22         Algérie   2017  41389.189\n",
       "28       Allemagne   2017  82658.409"
      ]
     },
     "execution_count": 10,
     "metadata": {},
     "output_type": "execute_result"
    }
   ],
   "source": [
    "# Valeur est le pourcentage de la population sous nutrition par raport à la population par pays \n",
    "proportion_sousnut_pays=pd.DataFrame(columns=['Zone', 'Année', 'Valeur'])\n",
    "proportion_sousnut_pays.head()\n",
    "population17=population[population['Année']==2017]\n",
    "population17.head()\n"
   ]
  },
  {
   "cell_type": "code",
   "execution_count": 11,
   "id": "d7ea09f4",
   "metadata": {
    "scrolled": true,
    "slideshow": {
     "slide_type": "fragment"
    }
   },
   "outputs": [
    {
     "data": {
      "text/html": [
       "<div>\n",
       "<style scoped>\n",
       "    .dataframe tbody tr th:only-of-type {\n",
       "        vertical-align: middle;\n",
       "    }\n",
       "\n",
       "    .dataframe tbody tr th {\n",
       "        vertical-align: top;\n",
       "    }\n",
       "\n",
       "    .dataframe thead th {\n",
       "        text-align: right;\n",
       "    }\n",
       "</style>\n",
       "<table border=\"1\" class=\"dataframe\">\n",
       "  <thead>\n",
       "    <tr style=\"text-align: right;\">\n",
       "      <th></th>\n",
       "      <th>Zone</th>\n",
       "      <th>Année</th>\n",
       "      <th>Valeur</th>\n",
       "    </tr>\n",
       "  </thead>\n",
       "  <tbody>\n",
       "    <tr>\n",
       "      <th>41</th>\n",
       "      <td>Haïti</td>\n",
       "      <td>2016-2018</td>\n",
       "      <td>48.26</td>\n",
       "    </tr>\n",
       "    <tr>\n",
       "      <th>82</th>\n",
       "      <td>République populaire démocratique de Corée</td>\n",
       "      <td>2016-2018</td>\n",
       "      <td>47.19</td>\n",
       "    </tr>\n",
       "    <tr>\n",
       "      <th>57</th>\n",
       "      <td>Madagascar</td>\n",
       "      <td>2016-2018</td>\n",
       "      <td>41.06</td>\n",
       "    </tr>\n",
       "    <tr>\n",
       "      <th>55</th>\n",
       "      <td>Libéria</td>\n",
       "      <td>2016-2018</td>\n",
       "      <td>38.28</td>\n",
       "    </tr>\n",
       "    <tr>\n",
       "      <th>53</th>\n",
       "      <td>Lesotho</td>\n",
       "      <td>2016-2018</td>\n",
       "      <td>38.25</td>\n",
       "    </tr>\n",
       "    <tr>\n",
       "      <th>94</th>\n",
       "      <td>Tchad</td>\n",
       "      <td>2016-2018</td>\n",
       "      <td>37.96</td>\n",
       "    </tr>\n",
       "    <tr>\n",
       "      <th>84</th>\n",
       "      <td>Rwanda</td>\n",
       "      <td>2016-2018</td>\n",
       "      <td>35.06</td>\n",
       "    </tr>\n",
       "    <tr>\n",
       "      <th>66</th>\n",
       "      <td>Mozambique</td>\n",
       "      <td>2016-2018</td>\n",
       "      <td>32.81</td>\n",
       "    </tr>\n",
       "    <tr>\n",
       "      <th>96</th>\n",
       "      <td>Timor-Leste</td>\n",
       "      <td>2016-2018</td>\n",
       "      <td>32.17</td>\n",
       "    </tr>\n",
       "    <tr>\n",
       "      <th>0</th>\n",
       "      <td>Afghanistan</td>\n",
       "      <td>2016-2018</td>\n",
       "      <td>28.93</td>\n",
       "    </tr>\n",
       "  </tbody>\n",
       "</table>\n",
       "</div>"
      ],
      "text/plain": [
       "                                          Zone      Année  Valeur\n",
       "41                                       Haïti  2016-2018   48.26\n",
       "82  République populaire démocratique de Corée  2016-2018   47.19\n",
       "57                                  Madagascar  2016-2018   41.06\n",
       "55                                     Libéria  2016-2018   38.28\n",
       "53                                     Lesotho  2016-2018   38.25\n",
       "94                                       Tchad  2016-2018   37.96\n",
       "84                                      Rwanda  2016-2018   35.06\n",
       "66                                  Mozambique  2016-2018   32.81\n",
       "96                                 Timor-Leste  2016-2018   32.17\n",
       "0                                  Afghanistan  2016-2018   28.93"
      ]
     },
     "execution_count": 11,
     "metadata": {},
     "output_type": "execute_result"
    }
   ],
   "source": [
    "for index, x in df_sousnut_pays.iterrows():\n",
    "    for index, y in population17.iterrows():\n",
    "        if x['Zone']==y['Zone']:\n",
    "            proportion_sousnut_pays=proportion_sousnut_pays.append({'Zone': x['Zone'], 'Année': x['Année'], 'Valeur': round((x['Valeur_Sousnut']/y['Valeur'])*100 ,2)}, ignore_index=True)\n",
    "            \n",
    "proportion_sousnut_pays.sort_values(by=['Valeur'], ascending=False, inplace=True)           \n",
    "proportion_sousnut_pays.head(10)"
   ]
  },
  {
   "cell_type": "markdown",
   "id": "a0ddfd28",
   "metadata": {
    "slideshow": {
     "slide_type": "slide"
    }
   },
   "source": [
    "## le nombre théorique de personnes qui pourraient être nourries. "
   ]
  },
  {
   "cell_type": "markdown",
   "id": "3d2435dd",
   "metadata": {
    "slideshow": {
     "slide_type": "fragment"
    }
   },
   "source": [
    "Les résultats seront exprimés en termes de calories, de protéines, puis en pourcentage de la population mondiale."
   ]
  },
  {
   "cell_type": "markdown",
   "id": "12043e11",
   "metadata": {
    "slideshow": {
     "slide_type": "fragment"
    }
   },
   "source": [
    "- Pour les Calories les calculs seront fait sur la base de 2 355 Kcal/jour, soit 859575 Kcal/an.\n",
    "- Pour les Protéines les calculs seront fait sur la base de 0,85 g/kg, poids moyen de 57 kg, soit 17684 g/an.\n",
    "\n",
    "Selon les recommandations de la FAO.\n"
   ]
  },
  {
   "cell_type": "code",
   "execution_count": 12,
   "id": "44fd053b",
   "metadata": {
    "scrolled": true,
    "slideshow": {
     "slide_type": "skip"
    }
   },
   "outputs": [
    {
     "data": {
      "text/html": [
       "<div>\n",
       "<style scoped>\n",
       "    .dataframe tbody tr th:only-of-type {\n",
       "        vertical-align: middle;\n",
       "    }\n",
       "\n",
       "    .dataframe tbody tr th {\n",
       "        vertical-align: top;\n",
       "    }\n",
       "\n",
       "    .dataframe thead th {\n",
       "        text-align: right;\n",
       "    }\n",
       "</style>\n",
       "<table border=\"1\" class=\"dataframe\">\n",
       "  <thead>\n",
       "    <tr style=\"text-align: right;\">\n",
       "      <th></th>\n",
       "      <th>Zone</th>\n",
       "      <th>Produit</th>\n",
       "      <th>Origine</th>\n",
       "      <th>Aliments pour animaux</th>\n",
       "      <th>Autres Utilisations</th>\n",
       "      <th>Disponibilité alimentaire (Kcal/personne/jour)</th>\n",
       "      <th>Disponibilité alimentaire en quantité (kg/personne/an)</th>\n",
       "      <th>Disponibilité de matière grasse en quantité (g/personne/jour)</th>\n",
       "      <th>Disponibilité de protéines en quantité (g/personne/jour)</th>\n",
       "      <th>Disponibilité intérieure</th>\n",
       "      <th>Exportations - Quantité</th>\n",
       "      <th>Importations - Quantité</th>\n",
       "      <th>Nourriture</th>\n",
       "      <th>Pertes</th>\n",
       "      <th>Production</th>\n",
       "      <th>Semences</th>\n",
       "      <th>Traitement</th>\n",
       "      <th>Variation de stock</th>\n",
       "    </tr>\n",
       "  </thead>\n",
       "  <tbody>\n",
       "    <tr>\n",
       "      <th>0</th>\n",
       "      <td>Afghanistan</td>\n",
       "      <td>Abats Comestible</td>\n",
       "      <td>animale</td>\n",
       "      <td>NaN</td>\n",
       "      <td>NaN</td>\n",
       "      <td>5.0</td>\n",
       "      <td>1.72</td>\n",
       "      <td>0.20</td>\n",
       "      <td>0.77</td>\n",
       "      <td>53.0</td>\n",
       "      <td>NaN</td>\n",
       "      <td>NaN</td>\n",
       "      <td>53.0</td>\n",
       "      <td>NaN</td>\n",
       "      <td>53.0</td>\n",
       "      <td>NaN</td>\n",
       "      <td>NaN</td>\n",
       "      <td>NaN</td>\n",
       "    </tr>\n",
       "    <tr>\n",
       "      <th>1</th>\n",
       "      <td>Afghanistan</td>\n",
       "      <td>Agrumes, Autres</td>\n",
       "      <td>vegetale</td>\n",
       "      <td>NaN</td>\n",
       "      <td>NaN</td>\n",
       "      <td>1.0</td>\n",
       "      <td>1.29</td>\n",
       "      <td>0.01</td>\n",
       "      <td>0.02</td>\n",
       "      <td>41.0</td>\n",
       "      <td>2.0</td>\n",
       "      <td>40.0</td>\n",
       "      <td>39.0</td>\n",
       "      <td>2.0</td>\n",
       "      <td>3.0</td>\n",
       "      <td>NaN</td>\n",
       "      <td>NaN</td>\n",
       "      <td>NaN</td>\n",
       "    </tr>\n",
       "    <tr>\n",
       "      <th>2</th>\n",
       "      <td>Afghanistan</td>\n",
       "      <td>Aliments pour enfants</td>\n",
       "      <td>vegetale</td>\n",
       "      <td>NaN</td>\n",
       "      <td>NaN</td>\n",
       "      <td>1.0</td>\n",
       "      <td>0.06</td>\n",
       "      <td>0.01</td>\n",
       "      <td>0.03</td>\n",
       "      <td>2.0</td>\n",
       "      <td>NaN</td>\n",
       "      <td>2.0</td>\n",
       "      <td>2.0</td>\n",
       "      <td>NaN</td>\n",
       "      <td>NaN</td>\n",
       "      <td>NaN</td>\n",
       "      <td>NaN</td>\n",
       "      <td>NaN</td>\n",
       "    </tr>\n",
       "    <tr>\n",
       "      <th>3</th>\n",
       "      <td>Afghanistan</td>\n",
       "      <td>Ananas</td>\n",
       "      <td>vegetale</td>\n",
       "      <td>NaN</td>\n",
       "      <td>NaN</td>\n",
       "      <td>0.0</td>\n",
       "      <td>0.00</td>\n",
       "      <td>NaN</td>\n",
       "      <td>NaN</td>\n",
       "      <td>0.0</td>\n",
       "      <td>NaN</td>\n",
       "      <td>0.0</td>\n",
       "      <td>0.0</td>\n",
       "      <td>NaN</td>\n",
       "      <td>NaN</td>\n",
       "      <td>NaN</td>\n",
       "      <td>NaN</td>\n",
       "      <td>NaN</td>\n",
       "    </tr>\n",
       "    <tr>\n",
       "      <th>4</th>\n",
       "      <td>Afghanistan</td>\n",
       "      <td>Bananes</td>\n",
       "      <td>vegetale</td>\n",
       "      <td>NaN</td>\n",
       "      <td>NaN</td>\n",
       "      <td>4.0</td>\n",
       "      <td>2.70</td>\n",
       "      <td>0.02</td>\n",
       "      <td>0.05</td>\n",
       "      <td>82.0</td>\n",
       "      <td>NaN</td>\n",
       "      <td>82.0</td>\n",
       "      <td>82.0</td>\n",
       "      <td>NaN</td>\n",
       "      <td>NaN</td>\n",
       "      <td>NaN</td>\n",
       "      <td>NaN</td>\n",
       "      <td>NaN</td>\n",
       "    </tr>\n",
       "  </tbody>\n",
       "</table>\n",
       "</div>"
      ],
      "text/plain": [
       "          Zone                Produit   Origine  Aliments pour animaux  \\\n",
       "0  Afghanistan       Abats Comestible   animale                    NaN   \n",
       "1  Afghanistan        Agrumes, Autres  vegetale                    NaN   \n",
       "2  Afghanistan  Aliments pour enfants  vegetale                    NaN   \n",
       "3  Afghanistan                 Ananas  vegetale                    NaN   \n",
       "4  Afghanistan                Bananes  vegetale                    NaN   \n",
       "\n",
       "   Autres Utilisations  Disponibilité alimentaire (Kcal/personne/jour)  \\\n",
       "0                  NaN                                             5.0   \n",
       "1                  NaN                                             1.0   \n",
       "2                  NaN                                             1.0   \n",
       "3                  NaN                                             0.0   \n",
       "4                  NaN                                             4.0   \n",
       "\n",
       "   Disponibilité alimentaire en quantité (kg/personne/an)  \\\n",
       "0                                               1.72        \n",
       "1                                               1.29        \n",
       "2                                               0.06        \n",
       "3                                               0.00        \n",
       "4                                               2.70        \n",
       "\n",
       "   Disponibilité de matière grasse en quantité (g/personne/jour)  \\\n",
       "0                                               0.20               \n",
       "1                                               0.01               \n",
       "2                                               0.01               \n",
       "3                                                NaN               \n",
       "4                                               0.02               \n",
       "\n",
       "   Disponibilité de protéines en quantité (g/personne/jour)  \\\n",
       "0                                               0.77          \n",
       "1                                               0.02          \n",
       "2                                               0.03          \n",
       "3                                                NaN          \n",
       "4                                               0.05          \n",
       "\n",
       "   Disponibilité intérieure  Exportations - Quantité  Importations - Quantité  \\\n",
       "0                      53.0                      NaN                      NaN   \n",
       "1                      41.0                      2.0                     40.0   \n",
       "2                       2.0                      NaN                      2.0   \n",
       "3                       0.0                      NaN                      0.0   \n",
       "4                      82.0                      NaN                     82.0   \n",
       "\n",
       "   Nourriture  Pertes  Production  Semences  Traitement  Variation de stock  \n",
       "0        53.0     NaN        53.0       NaN         NaN                 NaN  \n",
       "1        39.0     2.0         3.0       NaN         NaN                 NaN  \n",
       "2         2.0     NaN         NaN       NaN         NaN                 NaN  \n",
       "3         0.0     NaN         NaN       NaN         NaN                 NaN  \n",
       "4        82.0     NaN         NaN       NaN         NaN                 NaN  "
      ]
     },
     "execution_count": 12,
     "metadata": {},
     "output_type": "execute_result"
    }
   ],
   "source": [
    "# charge de la disponibilité alimentaire\n",
    "dispo_alimentaire=pd.read_csv('dispo_alimentaire.csv')\n",
    "dispo_alimentaire.head()"
   ]
  },
  {
   "cell_type": "code",
   "execution_count": 13,
   "id": "244b2cd5",
   "metadata": {
    "scrolled": true,
    "slideshow": {
     "slide_type": "skip"
    }
   },
   "outputs": [
    {
     "data": {
      "text/html": [
       "<div>\n",
       "<style scoped>\n",
       "    .dataframe tbody tr th:only-of-type {\n",
       "        vertical-align: middle;\n",
       "    }\n",
       "\n",
       "    .dataframe tbody tr th {\n",
       "        vertical-align: top;\n",
       "    }\n",
       "\n",
       "    .dataframe thead th {\n",
       "        text-align: right;\n",
       "    }\n",
       "</style>\n",
       "<table border=\"1\" class=\"dataframe\">\n",
       "  <thead>\n",
       "    <tr style=\"text-align: right;\">\n",
       "      <th></th>\n",
       "      <th>Zone</th>\n",
       "      <th>Produit</th>\n",
       "      <th>Origine</th>\n",
       "      <th>Aliments pour animaux</th>\n",
       "      <th>Autres Utilisations</th>\n",
       "      <th>Disponibilité alimentaire (Kcal/personne/jour)</th>\n",
       "      <th>Disponibilité alimentaire en quantité (kg/personne/an)</th>\n",
       "      <th>Disponibilité de matière grasse en quantité (g/personne/jour)</th>\n",
       "      <th>Disponibilité de protéines en quantité (g/personne/jour)</th>\n",
       "      <th>Disponibilité intérieure</th>\n",
       "      <th>Exportations - Quantité</th>\n",
       "      <th>Importations - Quantité</th>\n",
       "      <th>Nourriture</th>\n",
       "      <th>Pertes</th>\n",
       "      <th>Production</th>\n",
       "      <th>Semences</th>\n",
       "      <th>Traitement</th>\n",
       "      <th>Variation de stock</th>\n",
       "      <th>Année</th>\n",
       "      <th>Valeur</th>\n",
       "    </tr>\n",
       "  </thead>\n",
       "  <tbody>\n",
       "    <tr>\n",
       "      <th>0</th>\n",
       "      <td>Afghanistan</td>\n",
       "      <td>Abats Comestible</td>\n",
       "      <td>animale</td>\n",
       "      <td>NaN</td>\n",
       "      <td>NaN</td>\n",
       "      <td>5.0</td>\n",
       "      <td>1.72</td>\n",
       "      <td>0.2</td>\n",
       "      <td>0.77</td>\n",
       "      <td>53.0</td>\n",
       "      <td>NaN</td>\n",
       "      <td>NaN</td>\n",
       "      <td>53.0</td>\n",
       "      <td>NaN</td>\n",
       "      <td>53.0</td>\n",
       "      <td>NaN</td>\n",
       "      <td>NaN</td>\n",
       "      <td>NaN</td>\n",
       "      <td>2013</td>\n",
       "      <td>32269.589</td>\n",
       "    </tr>\n",
       "    <tr>\n",
       "      <th>1</th>\n",
       "      <td>Afghanistan</td>\n",
       "      <td>Abats Comestible</td>\n",
       "      <td>animale</td>\n",
       "      <td>NaN</td>\n",
       "      <td>NaN</td>\n",
       "      <td>5.0</td>\n",
       "      <td>1.72</td>\n",
       "      <td>0.2</td>\n",
       "      <td>0.77</td>\n",
       "      <td>53.0</td>\n",
       "      <td>NaN</td>\n",
       "      <td>NaN</td>\n",
       "      <td>53.0</td>\n",
       "      <td>NaN</td>\n",
       "      <td>53.0</td>\n",
       "      <td>NaN</td>\n",
       "      <td>NaN</td>\n",
       "      <td>NaN</td>\n",
       "      <td>2014</td>\n",
       "      <td>33370.794</td>\n",
       "    </tr>\n",
       "    <tr>\n",
       "      <th>2</th>\n",
       "      <td>Afghanistan</td>\n",
       "      <td>Abats Comestible</td>\n",
       "      <td>animale</td>\n",
       "      <td>NaN</td>\n",
       "      <td>NaN</td>\n",
       "      <td>5.0</td>\n",
       "      <td>1.72</td>\n",
       "      <td>0.2</td>\n",
       "      <td>0.77</td>\n",
       "      <td>53.0</td>\n",
       "      <td>NaN</td>\n",
       "      <td>NaN</td>\n",
       "      <td>53.0</td>\n",
       "      <td>NaN</td>\n",
       "      <td>53.0</td>\n",
       "      <td>NaN</td>\n",
       "      <td>NaN</td>\n",
       "      <td>NaN</td>\n",
       "      <td>2015</td>\n",
       "      <td>34413.603</td>\n",
       "    </tr>\n",
       "    <tr>\n",
       "      <th>3</th>\n",
       "      <td>Afghanistan</td>\n",
       "      <td>Abats Comestible</td>\n",
       "      <td>animale</td>\n",
       "      <td>NaN</td>\n",
       "      <td>NaN</td>\n",
       "      <td>5.0</td>\n",
       "      <td>1.72</td>\n",
       "      <td>0.2</td>\n",
       "      <td>0.77</td>\n",
       "      <td>53.0</td>\n",
       "      <td>NaN</td>\n",
       "      <td>NaN</td>\n",
       "      <td>53.0</td>\n",
       "      <td>NaN</td>\n",
       "      <td>53.0</td>\n",
       "      <td>NaN</td>\n",
       "      <td>NaN</td>\n",
       "      <td>NaN</td>\n",
       "      <td>2016</td>\n",
       "      <td>35383.032</td>\n",
       "    </tr>\n",
       "    <tr>\n",
       "      <th>4</th>\n",
       "      <td>Afghanistan</td>\n",
       "      <td>Abats Comestible</td>\n",
       "      <td>animale</td>\n",
       "      <td>NaN</td>\n",
       "      <td>NaN</td>\n",
       "      <td>5.0</td>\n",
       "      <td>1.72</td>\n",
       "      <td>0.2</td>\n",
       "      <td>0.77</td>\n",
       "      <td>53.0</td>\n",
       "      <td>NaN</td>\n",
       "      <td>NaN</td>\n",
       "      <td>53.0</td>\n",
       "      <td>NaN</td>\n",
       "      <td>53.0</td>\n",
       "      <td>NaN</td>\n",
       "      <td>NaN</td>\n",
       "      <td>NaN</td>\n",
       "      <td>2017</td>\n",
       "      <td>36296.113</td>\n",
       "    </tr>\n",
       "  </tbody>\n",
       "</table>\n",
       "</div>"
      ],
      "text/plain": [
       "          Zone           Produit  Origine  Aliments pour animaux  \\\n",
       "0  Afghanistan  Abats Comestible  animale                    NaN   \n",
       "1  Afghanistan  Abats Comestible  animale                    NaN   \n",
       "2  Afghanistan  Abats Comestible  animale                    NaN   \n",
       "3  Afghanistan  Abats Comestible  animale                    NaN   \n",
       "4  Afghanistan  Abats Comestible  animale                    NaN   \n",
       "\n",
       "   Autres Utilisations  Disponibilité alimentaire (Kcal/personne/jour)  \\\n",
       "0                  NaN                                             5.0   \n",
       "1                  NaN                                             5.0   \n",
       "2                  NaN                                             5.0   \n",
       "3                  NaN                                             5.0   \n",
       "4                  NaN                                             5.0   \n",
       "\n",
       "   Disponibilité alimentaire en quantité (kg/personne/an)  \\\n",
       "0                                               1.72        \n",
       "1                                               1.72        \n",
       "2                                               1.72        \n",
       "3                                               1.72        \n",
       "4                                               1.72        \n",
       "\n",
       "   Disponibilité de matière grasse en quantité (g/personne/jour)  \\\n",
       "0                                                0.2               \n",
       "1                                                0.2               \n",
       "2                                                0.2               \n",
       "3                                                0.2               \n",
       "4                                                0.2               \n",
       "\n",
       "   Disponibilité de protéines en quantité (g/personne/jour)  \\\n",
       "0                                               0.77          \n",
       "1                                               0.77          \n",
       "2                                               0.77          \n",
       "3                                               0.77          \n",
       "4                                               0.77          \n",
       "\n",
       "   Disponibilité intérieure  Exportations - Quantité  Importations - Quantité  \\\n",
       "0                      53.0                      NaN                      NaN   \n",
       "1                      53.0                      NaN                      NaN   \n",
       "2                      53.0                      NaN                      NaN   \n",
       "3                      53.0                      NaN                      NaN   \n",
       "4                      53.0                      NaN                      NaN   \n",
       "\n",
       "   Nourriture  Pertes  Production  Semences  Traitement  Variation de stock  \\\n",
       "0        53.0     NaN        53.0       NaN         NaN                 NaN   \n",
       "1        53.0     NaN        53.0       NaN         NaN                 NaN   \n",
       "2        53.0     NaN        53.0       NaN         NaN                 NaN   \n",
       "3        53.0     NaN        53.0       NaN         NaN                 NaN   \n",
       "4        53.0     NaN        53.0       NaN         NaN                 NaN   \n",
       "\n",
       "   Année     Valeur  \n",
       "0   2013  32269.589  \n",
       "1   2014  33370.794  \n",
       "2   2015  34413.603  \n",
       "3   2016  35383.032  \n",
       "4   2017  36296.113  "
      ]
     },
     "execution_count": 13,
     "metadata": {},
     "output_type": "execute_result"
    }
   ],
   "source": [
    "#l'ajout d'une colonne pour la population par pays \n",
    "df_dispo_alimentaire= pd.merge(dispo_alimentaire,population, on='Zone')\n",
    "df_dispo_alimentaire.head()\n",
    "\n"
   ]
  },
  {
   "cell_type": "code",
   "execution_count": 14,
   "id": "6c10ebc1",
   "metadata": {
    "slideshow": {
     "slide_type": "skip"
    }
   },
   "outputs": [
    {
     "data": {
      "text/html": [
       "<div>\n",
       "<style scoped>\n",
       "    .dataframe tbody tr th:only-of-type {\n",
       "        vertical-align: middle;\n",
       "    }\n",
       "\n",
       "    .dataframe tbody tr th {\n",
       "        vertical-align: top;\n",
       "    }\n",
       "\n",
       "    .dataframe thead th {\n",
       "        text-align: right;\n",
       "    }\n",
       "</style>\n",
       "<table border=\"1\" class=\"dataframe\">\n",
       "  <thead>\n",
       "    <tr style=\"text-align: right;\">\n",
       "      <th></th>\n",
       "      <th>Zone</th>\n",
       "      <th>Produit</th>\n",
       "      <th>Origine</th>\n",
       "      <th>Aliments pour animaux</th>\n",
       "      <th>Autres Utilisations</th>\n",
       "      <th>Disponibilité alimentaire (Kcal/personne/jour)</th>\n",
       "      <th>Disponibilité alimentaire en quantité (kg/personne/an)</th>\n",
       "      <th>Disponibilité de matière grasse en quantité (g/personne/jour)</th>\n",
       "      <th>Disponibilité de protéines en quantité (g/personne/jour)</th>\n",
       "      <th>Disponibilité intérieure</th>\n",
       "      <th>Exportations - Quantité</th>\n",
       "      <th>Importations - Quantité</th>\n",
       "      <th>Nourriture</th>\n",
       "      <th>Pertes</th>\n",
       "      <th>Production</th>\n",
       "      <th>Semences</th>\n",
       "      <th>Traitement</th>\n",
       "      <th>Variation de stock</th>\n",
       "      <th>Année</th>\n",
       "      <th>Population</th>\n",
       "    </tr>\n",
       "  </thead>\n",
       "  <tbody>\n",
       "    <tr>\n",
       "      <th>4</th>\n",
       "      <td>Afghanistan</td>\n",
       "      <td>Abats Comestible</td>\n",
       "      <td>animale</td>\n",
       "      <td>NaN</td>\n",
       "      <td>NaN</td>\n",
       "      <td>5.0</td>\n",
       "      <td>1.72</td>\n",
       "      <td>0.20</td>\n",
       "      <td>0.77</td>\n",
       "      <td>53.0</td>\n",
       "      <td>NaN</td>\n",
       "      <td>NaN</td>\n",
       "      <td>53.0</td>\n",
       "      <td>NaN</td>\n",
       "      <td>53.0</td>\n",
       "      <td>NaN</td>\n",
       "      <td>NaN</td>\n",
       "      <td>NaN</td>\n",
       "      <td>2017</td>\n",
       "      <td>36296.113</td>\n",
       "    </tr>\n",
       "    <tr>\n",
       "      <th>10</th>\n",
       "      <td>Afghanistan</td>\n",
       "      <td>Agrumes, Autres</td>\n",
       "      <td>vegetale</td>\n",
       "      <td>NaN</td>\n",
       "      <td>NaN</td>\n",
       "      <td>1.0</td>\n",
       "      <td>1.29</td>\n",
       "      <td>0.01</td>\n",
       "      <td>0.02</td>\n",
       "      <td>41.0</td>\n",
       "      <td>2.0</td>\n",
       "      <td>40.0</td>\n",
       "      <td>39.0</td>\n",
       "      <td>2.0</td>\n",
       "      <td>3.0</td>\n",
       "      <td>NaN</td>\n",
       "      <td>NaN</td>\n",
       "      <td>NaN</td>\n",
       "      <td>2017</td>\n",
       "      <td>36296.113</td>\n",
       "    </tr>\n",
       "    <tr>\n",
       "      <th>16</th>\n",
       "      <td>Afghanistan</td>\n",
       "      <td>Aliments pour enfants</td>\n",
       "      <td>vegetale</td>\n",
       "      <td>NaN</td>\n",
       "      <td>NaN</td>\n",
       "      <td>1.0</td>\n",
       "      <td>0.06</td>\n",
       "      <td>0.01</td>\n",
       "      <td>0.03</td>\n",
       "      <td>2.0</td>\n",
       "      <td>NaN</td>\n",
       "      <td>2.0</td>\n",
       "      <td>2.0</td>\n",
       "      <td>NaN</td>\n",
       "      <td>NaN</td>\n",
       "      <td>NaN</td>\n",
       "      <td>NaN</td>\n",
       "      <td>NaN</td>\n",
       "      <td>2017</td>\n",
       "      <td>36296.113</td>\n",
       "    </tr>\n",
       "    <tr>\n",
       "      <th>22</th>\n",
       "      <td>Afghanistan</td>\n",
       "      <td>Ananas</td>\n",
       "      <td>vegetale</td>\n",
       "      <td>NaN</td>\n",
       "      <td>NaN</td>\n",
       "      <td>0.0</td>\n",
       "      <td>0.00</td>\n",
       "      <td>NaN</td>\n",
       "      <td>NaN</td>\n",
       "      <td>0.0</td>\n",
       "      <td>NaN</td>\n",
       "      <td>0.0</td>\n",
       "      <td>0.0</td>\n",
       "      <td>NaN</td>\n",
       "      <td>NaN</td>\n",
       "      <td>NaN</td>\n",
       "      <td>NaN</td>\n",
       "      <td>NaN</td>\n",
       "      <td>2017</td>\n",
       "      <td>36296.113</td>\n",
       "    </tr>\n",
       "    <tr>\n",
       "      <th>28</th>\n",
       "      <td>Afghanistan</td>\n",
       "      <td>Bananes</td>\n",
       "      <td>vegetale</td>\n",
       "      <td>NaN</td>\n",
       "      <td>NaN</td>\n",
       "      <td>4.0</td>\n",
       "      <td>2.70</td>\n",
       "      <td>0.02</td>\n",
       "      <td>0.05</td>\n",
       "      <td>82.0</td>\n",
       "      <td>NaN</td>\n",
       "      <td>82.0</td>\n",
       "      <td>82.0</td>\n",
       "      <td>NaN</td>\n",
       "      <td>NaN</td>\n",
       "      <td>NaN</td>\n",
       "      <td>NaN</td>\n",
       "      <td>NaN</td>\n",
       "      <td>2017</td>\n",
       "      <td>36296.113</td>\n",
       "    </tr>\n",
       "  </tbody>\n",
       "</table>\n",
       "</div>"
      ],
      "text/plain": [
       "           Zone                Produit   Origine  Aliments pour animaux  \\\n",
       "4   Afghanistan       Abats Comestible   animale                    NaN   \n",
       "10  Afghanistan        Agrumes, Autres  vegetale                    NaN   \n",
       "16  Afghanistan  Aliments pour enfants  vegetale                    NaN   \n",
       "22  Afghanistan                 Ananas  vegetale                    NaN   \n",
       "28  Afghanistan                Bananes  vegetale                    NaN   \n",
       "\n",
       "    Autres Utilisations  Disponibilité alimentaire (Kcal/personne/jour)  \\\n",
       "4                   NaN                                             5.0   \n",
       "10                  NaN                                             1.0   \n",
       "16                  NaN                                             1.0   \n",
       "22                  NaN                                             0.0   \n",
       "28                  NaN                                             4.0   \n",
       "\n",
       "    Disponibilité alimentaire en quantité (kg/personne/an)  \\\n",
       "4                                                1.72        \n",
       "10                                               1.29        \n",
       "16                                               0.06        \n",
       "22                                               0.00        \n",
       "28                                               2.70        \n",
       "\n",
       "    Disponibilité de matière grasse en quantité (g/personne/jour)  \\\n",
       "4                                                0.20               \n",
       "10                                               0.01               \n",
       "16                                               0.01               \n",
       "22                                                NaN               \n",
       "28                                               0.02               \n",
       "\n",
       "    Disponibilité de protéines en quantité (g/personne/jour)  \\\n",
       "4                                                0.77          \n",
       "10                                               0.02          \n",
       "16                                               0.03          \n",
       "22                                                NaN          \n",
       "28                                               0.05          \n",
       "\n",
       "    Disponibilité intérieure  Exportations - Quantité  \\\n",
       "4                       53.0                      NaN   \n",
       "10                      41.0                      2.0   \n",
       "16                       2.0                      NaN   \n",
       "22                       0.0                      NaN   \n",
       "28                      82.0                      NaN   \n",
       "\n",
       "    Importations - Quantité  Nourriture  Pertes  Production  Semences  \\\n",
       "4                       NaN        53.0     NaN        53.0       NaN   \n",
       "10                     40.0        39.0     2.0         3.0       NaN   \n",
       "16                      2.0         2.0     NaN         NaN       NaN   \n",
       "22                      0.0         0.0     NaN         NaN       NaN   \n",
       "28                     82.0        82.0     NaN         NaN       NaN   \n",
       "\n",
       "    Traitement  Variation de stock  Année  Population  \n",
       "4          NaN                 NaN   2017   36296.113  \n",
       "10         NaN                 NaN   2017   36296.113  \n",
       "16         NaN                 NaN   2017   36296.113  \n",
       "22         NaN                 NaN   2017   36296.113  \n",
       "28         NaN                 NaN   2017   36296.113  "
      ]
     },
     "execution_count": 14,
     "metadata": {},
     "output_type": "execute_result"
    }
   ],
   "source": [
    "#renomer la colonne valeur en population\n",
    "# projection pour selectionner la disponibilité alimentaire par produits et la population par pays pour l'année 2017.\n",
    "df_dispo_alimentaire.rename(columns={'Valeur':'Population'}, inplace=True)\n",
    "df_dispo_alimentaire.head()\n",
    "\n",
    "df_dispo_alimentaire=df_dispo_alimentaire[df_dispo_alimentaire['Année']==2017]\n",
    "df_dispo_alimentaire.head()\n"
   ]
  },
  {
   "cell_type": "code",
   "execution_count": 15,
   "id": "d13d734f",
   "metadata": {
    "slideshow": {
     "slide_type": "skip"
    }
   },
   "outputs": [],
   "source": [
    "#Ajout des Series \"Disponibilités alimentaire en Kcal et Kg\" et \"Disponibilités protéines en Kg\"\n",
    "df_dispo_alimentaire['Disponibilité alimentaire (Kcal/an)'] = df_dispo_alimentaire['Disponibilité alimentaire (Kcal/personne/jour)'] \\\n",
    "* 365 * df_dispo_alimentaire['Population'] \n",
    "\n",
    "df_dispo_alimentaire['Disponibilité de protéines en quantité (Kg/an)']= df_dispo_alimentaire['Disponibilité de protéines en quantité (g/personne/jour)']\\\n",
    "* 365 * .001 * df_dispo_alimentaire['Population']\n",
    "\n",
    "df_dispo_alimentaire['Disponibilité alimentaire en quantité (Kg/an)'] = df_dispo_alimentaire['Disponibilité alimentaire en quantité (kg/personne/an)'] \\\n",
    "* df_dispo_alimentaire['Population']\n"
   ]
  },
  {
   "cell_type": "code",
   "execution_count": 16,
   "id": "3de40c15",
   "metadata": {
    "slideshow": {
     "slide_type": "skip"
    }
   },
   "outputs": [
    {
     "data": {
      "text/html": [
       "<div>\n",
       "<style scoped>\n",
       "    .dataframe tbody tr th:only-of-type {\n",
       "        vertical-align: middle;\n",
       "    }\n",
       "\n",
       "    .dataframe tbody tr th {\n",
       "        vertical-align: top;\n",
       "    }\n",
       "\n",
       "    .dataframe thead th {\n",
       "        text-align: right;\n",
       "    }\n",
       "</style>\n",
       "<table border=\"1\" class=\"dataframe\">\n",
       "  <thead>\n",
       "    <tr style=\"text-align: right;\">\n",
       "      <th></th>\n",
       "      <th>index</th>\n",
       "      <th>Zone</th>\n",
       "      <th>Produit</th>\n",
       "      <th>Origine</th>\n",
       "      <th>Disponibilité alimentaire (Kcal/an)</th>\n",
       "      <th>Disponibilité alimentaire en quantité (Kg/an)</th>\n",
       "      <th>Disponibilité de protéines en quantité (Kg/an)</th>\n",
       "      <th>Disponibilité intérieure</th>\n",
       "      <th>Aliments pour animaux</th>\n",
       "      <th>Pertes</th>\n",
       "    </tr>\n",
       "  </thead>\n",
       "  <tbody>\n",
       "    <tr>\n",
       "      <th>0</th>\n",
       "      <td>4</td>\n",
       "      <td>Afghanistan</td>\n",
       "      <td>Abats Comestible</td>\n",
       "      <td>animale</td>\n",
       "      <td>6.624041e+07</td>\n",
       "      <td>62429.31436</td>\n",
       "      <td>10201.022559</td>\n",
       "      <td>53.0</td>\n",
       "      <td>NaN</td>\n",
       "      <td>NaN</td>\n",
       "    </tr>\n",
       "    <tr>\n",
       "      <th>1</th>\n",
       "      <td>10</td>\n",
       "      <td>Afghanistan</td>\n",
       "      <td>Agrumes, Autres</td>\n",
       "      <td>vegetale</td>\n",
       "      <td>1.324808e+07</td>\n",
       "      <td>46821.98577</td>\n",
       "      <td>264.961625</td>\n",
       "      <td>41.0</td>\n",
       "      <td>NaN</td>\n",
       "      <td>2.0</td>\n",
       "    </tr>\n",
       "    <tr>\n",
       "      <th>2</th>\n",
       "      <td>16</td>\n",
       "      <td>Afghanistan</td>\n",
       "      <td>Aliments pour enfants</td>\n",
       "      <td>vegetale</td>\n",
       "      <td>1.324808e+07</td>\n",
       "      <td>2177.76678</td>\n",
       "      <td>397.442437</td>\n",
       "      <td>2.0</td>\n",
       "      <td>NaN</td>\n",
       "      <td>NaN</td>\n",
       "    </tr>\n",
       "    <tr>\n",
       "      <th>3</th>\n",
       "      <td>22</td>\n",
       "      <td>Afghanistan</td>\n",
       "      <td>Ananas</td>\n",
       "      <td>vegetale</td>\n",
       "      <td>0.000000e+00</td>\n",
       "      <td>0.00000</td>\n",
       "      <td>NaN</td>\n",
       "      <td>0.0</td>\n",
       "      <td>NaN</td>\n",
       "      <td>NaN</td>\n",
       "    </tr>\n",
       "    <tr>\n",
       "      <th>4</th>\n",
       "      <td>28</td>\n",
       "      <td>Afghanistan</td>\n",
       "      <td>Bananes</td>\n",
       "      <td>vegetale</td>\n",
       "      <td>5.299232e+07</td>\n",
       "      <td>97999.50510</td>\n",
       "      <td>662.404062</td>\n",
       "      <td>82.0</td>\n",
       "      <td>NaN</td>\n",
       "      <td>NaN</td>\n",
       "    </tr>\n",
       "  </tbody>\n",
       "</table>\n",
       "</div>"
      ],
      "text/plain": [
       "   index         Zone                Produit   Origine  \\\n",
       "0      4  Afghanistan       Abats Comestible   animale   \n",
       "1     10  Afghanistan        Agrumes, Autres  vegetale   \n",
       "2     16  Afghanistan  Aliments pour enfants  vegetale   \n",
       "3     22  Afghanistan                 Ananas  vegetale   \n",
       "4     28  Afghanistan                Bananes  vegetale   \n",
       "\n",
       "   Disponibilité alimentaire (Kcal/an)  \\\n",
       "0                         6.624041e+07   \n",
       "1                         1.324808e+07   \n",
       "2                         1.324808e+07   \n",
       "3                         0.000000e+00   \n",
       "4                         5.299232e+07   \n",
       "\n",
       "   Disponibilité alimentaire en quantité (Kg/an)  \\\n",
       "0                                    62429.31436   \n",
       "1                                    46821.98577   \n",
       "2                                     2177.76678   \n",
       "3                                        0.00000   \n",
       "4                                    97999.50510   \n",
       "\n",
       "   Disponibilité de protéines en quantité (Kg/an)  Disponibilité intérieure  \\\n",
       "0                                    10201.022559                      53.0   \n",
       "1                                      264.961625                      41.0   \n",
       "2                                      397.442437                       2.0   \n",
       "3                                             NaN                       0.0   \n",
       "4                                      662.404062                      82.0   \n",
       "\n",
       "   Aliments pour animaux  Pertes  \n",
       "0                    NaN     NaN  \n",
       "1                    NaN     2.0  \n",
       "2                    NaN     NaN  \n",
       "3                    NaN     NaN  \n",
       "4                    NaN     NaN  "
      ]
     },
     "execution_count": 16,
     "metadata": {},
     "output_type": "execute_result"
    }
   ],
   "source": [
    "#Projection des données sur les valeurs demandées\n",
    "df2 = df_dispo_alimentaire[['Zone','Produit','Origine', 'Disponibilité alimentaire (Kcal/an)', \\\n",
    "           'Disponibilité alimentaire en quantité (Kg/an)', 'Disponibilité de protéines en quantité (Kg/an)', \\\n",
    "           'Disponibilité intérieure', 'Aliments pour animaux', 'Pertes']].reset_index()\n",
    "\n",
    "df2.head()"
   ]
  },
  {
   "cell_type": "code",
   "execution_count": 17,
   "id": "ed0ea251",
   "metadata": {
    "scrolled": true,
    "slideshow": {
     "slide_type": "skip"
    }
   },
   "outputs": [
    {
     "data": {
      "text/html": [
       "<div>\n",
       "<style scoped>\n",
       "    .dataframe tbody tr th:only-of-type {\n",
       "        vertical-align: middle;\n",
       "    }\n",
       "\n",
       "    .dataframe tbody tr th {\n",
       "        vertical-align: top;\n",
       "    }\n",
       "\n",
       "    .dataframe thead th {\n",
       "        text-align: right;\n",
       "    }\n",
       "</style>\n",
       "<table border=\"1\" class=\"dataframe\">\n",
       "  <thead>\n",
       "    <tr style=\"text-align: right;\">\n",
       "      <th></th>\n",
       "      <th>Disponibilité alimentaire (Kcal/an)</th>\n",
       "      <th>Disponibilité de protéines en quantité (Kg/an)</th>\n",
       "    </tr>\n",
       "  </thead>\n",
       "  <tbody>\n",
       "    <tr>\n",
       "      <th>4</th>\n",
       "      <td>6.624041e+07</td>\n",
       "      <td>10201.022559</td>\n",
       "    </tr>\n",
       "    <tr>\n",
       "      <th>10</th>\n",
       "      <td>1.324808e+07</td>\n",
       "      <td>264.961625</td>\n",
       "    </tr>\n",
       "    <tr>\n",
       "      <th>16</th>\n",
       "      <td>1.324808e+07</td>\n",
       "      <td>397.442437</td>\n",
       "    </tr>\n",
       "    <tr>\n",
       "      <th>22</th>\n",
       "      <td>0.000000e+00</td>\n",
       "      <td>NaN</td>\n",
       "    </tr>\n",
       "    <tr>\n",
       "      <th>28</th>\n",
       "      <td>5.299232e+07</td>\n",
       "      <td>662.404062</td>\n",
       "    </tr>\n",
       "  </tbody>\n",
       "</table>\n",
       "</div>"
      ],
      "text/plain": [
       "    Disponibilité alimentaire (Kcal/an)  \\\n",
       "4                          6.624041e+07   \n",
       "10                         1.324808e+07   \n",
       "16                         1.324808e+07   \n",
       "22                         0.000000e+00   \n",
       "28                         5.299232e+07   \n",
       "\n",
       "    Disponibilité de protéines en quantité (Kg/an)  \n",
       "4                                     10201.022559  \n",
       "10                                      264.961625  \n",
       "16                                      397.442437  \n",
       "22                                             NaN  \n",
       "28                                      662.404062  "
      ]
     },
     "execution_count": 17,
     "metadata": {},
     "output_type": "execute_result"
    }
   ],
   "source": [
    "#Création du dataframe (df_dispoalimentaire) selon la disponibilité alimentaire mondiale en Kcal et Kg de protéines\n",
    "df_dispo_mondial = df_dispo_alimentaire[['Disponibilité alimentaire (Kcal/an)', 'Disponibilité de protéines en quantité (Kg/an)']]\n",
    "df_dispo_mondial.head()"
   ]
  },
  {
   "cell_type": "markdown",
   "id": "8b7e9a72",
   "metadata": {
    "slideshow": {
     "slide_type": "slide"
    }
   },
   "source": [
    "## Résultat en termes de calories"
   ]
  },
  {
   "cell_type": "code",
   "execution_count": 18,
   "id": "5f39dfb7",
   "metadata": {
    "scrolled": true,
    "slideshow": {
     "slide_type": "fragment"
    }
   },
   "outputs": [
    {
     "data": {
      "text/plain": [
       "8882796.02"
      ]
     },
     "execution_count": 18,
     "metadata": {},
     "output_type": "execute_result"
    }
   ],
   "source": [
    "humain_nourris_dispoalim_kcal = round(((df_dispo_alimentaire['Disponibilité alimentaire (Kcal/an)']).sum() / 859575), 2)\n",
    "humain_nourris_dispoalim_kcal"
   ]
  },
  {
   "cell_type": "markdown",
   "id": "4d7a9ad2",
   "metadata": {
    "slideshow": {
     "slide_type": "fragment"
    }
   },
   "source": [
    "**Plus de 8 Millions de personnes** pourraient être nourris à partir de la disponibilité alimentaire."
   ]
  },
  {
   "cell_type": "code",
   "execution_count": 19,
   "id": "a3ceac44",
   "metadata": {
    "slideshow": {
     "slide_type": "fragment"
    }
   },
   "outputs": [
    {
     "data": {
      "text/plain": [
       "117.68"
      ]
     },
     "execution_count": 19,
     "metadata": {},
     "output_type": "execute_result"
    }
   ],
   "source": [
    "pourcentage_humain_nourris_dispoalim_cal = round((humain_nourris_dispoalim_kcal*1000 / population_mondiale * 100),2)\n",
    "pourcentage_humain_nourris_dispoalim_cal"
   ]
  },
  {
   "cell_type": "markdown",
   "id": "fa653c66",
   "metadata": {
    "slideshow": {
     "slide_type": "fragment"
    }
   },
   "source": [
    "Soit **117,68%** de la population mondiale."
   ]
  },
  {
   "cell_type": "markdown",
   "id": "c1baf686",
   "metadata": {
    "slideshow": {
     "slide_type": "slide"
    }
   },
   "source": [
    "## Résultat en termes de proteins"
   ]
  },
  {
   "cell_type": "code",
   "execution_count": 20,
   "id": "3a71b9c1",
   "metadata": {
    "slideshow": {
     "slide_type": "fragment"
    }
   },
   "outputs": [
    {
     "data": {
      "text/plain": [
       "12119810.0"
      ]
     },
     "execution_count": 20,
     "metadata": {},
     "output_type": "execute_result"
    }
   ],
   "source": [
    "#Ma disponibilité de protéines est exprimée en Kg, elle sera *1000 pour avoir une base en grammes\n",
    "humain_nourris_dispoalim_kgprot = round(((df_dispo_alimentaire['Disponibilité de protéines en quantité (Kg/an)']).sum() / 17.68), 2)\n",
    "humain_nourris_dispoalim_kgprot"
   ]
  },
  {
   "cell_type": "markdown",
   "id": "4f8eea4d",
   "metadata": {
    "slideshow": {
     "slide_type": "fragment"
    }
   },
   "source": [
    "**Plus de 12 Millions de personnes** pourraient être nourris à partir de la disponibilité alimentaire."
   ]
  },
  {
   "cell_type": "code",
   "execution_count": 21,
   "id": "c181e62a",
   "metadata": {
    "slideshow": {
     "slide_type": "fragment"
    }
   },
   "outputs": [
    {
     "data": {
      "text/plain": [
       "160.57"
      ]
     },
     "execution_count": 21,
     "metadata": {},
     "output_type": "execute_result"
    }
   ],
   "source": [
    "pourcentage_humain_nourris_dispoalim_gprot = round((humain_nourris_dispoalim_kgprot*1000 / population_mondiale * 100),2)\n",
    "pourcentage_humain_nourris_dispoalim_gprot"
   ]
  },
  {
   "cell_type": "markdown",
   "id": "ddb2f8b7",
   "metadata": {
    "slideshow": {
     "slide_type": "fragment"
    }
   },
   "source": [
    "Soit **160,57%** de la population mondiale."
   ]
  },
  {
   "cell_type": "markdown",
   "id": "b082ac5a",
   "metadata": {
    "slideshow": {
     "slide_type": "slide"
    }
   },
   "source": [
    "## Le nombre theorique de personnes qui pourraient être nourries, à partir de la disponobilité végétale seulement."
   ]
  },
  {
   "cell_type": "code",
   "execution_count": 22,
   "id": "f31873da",
   "metadata": {
    "slideshow": {
     "slide_type": "skip"
    }
   },
   "outputs": [
    {
     "data": {
      "text/html": [
       "<div>\n",
       "<style scoped>\n",
       "    .dataframe tbody tr th:only-of-type {\n",
       "        vertical-align: middle;\n",
       "    }\n",
       "\n",
       "    .dataframe tbody tr th {\n",
       "        vertical-align: top;\n",
       "    }\n",
       "\n",
       "    .dataframe thead th {\n",
       "        text-align: right;\n",
       "    }\n",
       "</style>\n",
       "<table border=\"1\" class=\"dataframe\">\n",
       "  <thead>\n",
       "    <tr style=\"text-align: right;\">\n",
       "      <th></th>\n",
       "      <th>Zone</th>\n",
       "      <th>Produit</th>\n",
       "      <th>Origine</th>\n",
       "      <th>Aliments pour animaux</th>\n",
       "      <th>Autres Utilisations</th>\n",
       "      <th>Disponibilité alimentaire (Kcal/personne/jour)</th>\n",
       "      <th>Disponibilité alimentaire en quantité (kg/personne/an)</th>\n",
       "      <th>Disponibilité de matière grasse en quantité (g/personne/jour)</th>\n",
       "      <th>Disponibilité de protéines en quantité (g/personne/jour)</th>\n",
       "      <th>Disponibilité intérieure</th>\n",
       "      <th>...</th>\n",
       "      <th>Pertes</th>\n",
       "      <th>Production</th>\n",
       "      <th>Semences</th>\n",
       "      <th>Traitement</th>\n",
       "      <th>Variation de stock</th>\n",
       "      <th>Année</th>\n",
       "      <th>Population</th>\n",
       "      <th>Disponibilité alimentaire (Kcal/an)</th>\n",
       "      <th>Disponibilité de protéines en quantité (Kg/an)</th>\n",
       "      <th>Disponibilité alimentaire en quantité (Kg/an)</th>\n",
       "    </tr>\n",
       "  </thead>\n",
       "  <tbody>\n",
       "    <tr>\n",
       "      <th>10</th>\n",
       "      <td>Afghanistan</td>\n",
       "      <td>Agrumes, Autres</td>\n",
       "      <td>vegetale</td>\n",
       "      <td>NaN</td>\n",
       "      <td>NaN</td>\n",
       "      <td>1.0</td>\n",
       "      <td>1.29</td>\n",
       "      <td>0.01</td>\n",
       "      <td>0.02</td>\n",
       "      <td>41.0</td>\n",
       "      <td>...</td>\n",
       "      <td>2.0</td>\n",
       "      <td>3.0</td>\n",
       "      <td>NaN</td>\n",
       "      <td>NaN</td>\n",
       "      <td>NaN</td>\n",
       "      <td>2017</td>\n",
       "      <td>36296.113</td>\n",
       "      <td>1.324808e+07</td>\n",
       "      <td>264.961625</td>\n",
       "      <td>46821.98577</td>\n",
       "    </tr>\n",
       "    <tr>\n",
       "      <th>16</th>\n",
       "      <td>Afghanistan</td>\n",
       "      <td>Aliments pour enfants</td>\n",
       "      <td>vegetale</td>\n",
       "      <td>NaN</td>\n",
       "      <td>NaN</td>\n",
       "      <td>1.0</td>\n",
       "      <td>0.06</td>\n",
       "      <td>0.01</td>\n",
       "      <td>0.03</td>\n",
       "      <td>2.0</td>\n",
       "      <td>...</td>\n",
       "      <td>NaN</td>\n",
       "      <td>NaN</td>\n",
       "      <td>NaN</td>\n",
       "      <td>NaN</td>\n",
       "      <td>NaN</td>\n",
       "      <td>2017</td>\n",
       "      <td>36296.113</td>\n",
       "      <td>1.324808e+07</td>\n",
       "      <td>397.442437</td>\n",
       "      <td>2177.76678</td>\n",
       "    </tr>\n",
       "    <tr>\n",
       "      <th>22</th>\n",
       "      <td>Afghanistan</td>\n",
       "      <td>Ananas</td>\n",
       "      <td>vegetale</td>\n",
       "      <td>NaN</td>\n",
       "      <td>NaN</td>\n",
       "      <td>0.0</td>\n",
       "      <td>0.00</td>\n",
       "      <td>NaN</td>\n",
       "      <td>NaN</td>\n",
       "      <td>0.0</td>\n",
       "      <td>...</td>\n",
       "      <td>NaN</td>\n",
       "      <td>NaN</td>\n",
       "      <td>NaN</td>\n",
       "      <td>NaN</td>\n",
       "      <td>NaN</td>\n",
       "      <td>2017</td>\n",
       "      <td>36296.113</td>\n",
       "      <td>0.000000e+00</td>\n",
       "      <td>NaN</td>\n",
       "      <td>0.00000</td>\n",
       "    </tr>\n",
       "    <tr>\n",
       "      <th>28</th>\n",
       "      <td>Afghanistan</td>\n",
       "      <td>Bananes</td>\n",
       "      <td>vegetale</td>\n",
       "      <td>NaN</td>\n",
       "      <td>NaN</td>\n",
       "      <td>4.0</td>\n",
       "      <td>2.70</td>\n",
       "      <td>0.02</td>\n",
       "      <td>0.05</td>\n",
       "      <td>82.0</td>\n",
       "      <td>...</td>\n",
       "      <td>NaN</td>\n",
       "      <td>NaN</td>\n",
       "      <td>NaN</td>\n",
       "      <td>NaN</td>\n",
       "      <td>NaN</td>\n",
       "      <td>2017</td>\n",
       "      <td>36296.113</td>\n",
       "      <td>5.299232e+07</td>\n",
       "      <td>662.404062</td>\n",
       "      <td>97999.50510</td>\n",
       "    </tr>\n",
       "    <tr>\n",
       "      <th>40</th>\n",
       "      <td>Afghanistan</td>\n",
       "      <td>Bière</td>\n",
       "      <td>vegetale</td>\n",
       "      <td>NaN</td>\n",
       "      <td>NaN</td>\n",
       "      <td>0.0</td>\n",
       "      <td>0.09</td>\n",
       "      <td>NaN</td>\n",
       "      <td>0.00</td>\n",
       "      <td>3.0</td>\n",
       "      <td>...</td>\n",
       "      <td>NaN</td>\n",
       "      <td>NaN</td>\n",
       "      <td>NaN</td>\n",
       "      <td>NaN</td>\n",
       "      <td>NaN</td>\n",
       "      <td>2017</td>\n",
       "      <td>36296.113</td>\n",
       "      <td>0.000000e+00</td>\n",
       "      <td>0.000000</td>\n",
       "      <td>3266.65017</td>\n",
       "    </tr>\n",
       "  </tbody>\n",
       "</table>\n",
       "<p>5 rows × 23 columns</p>\n",
       "</div>"
      ],
      "text/plain": [
       "           Zone                Produit   Origine  Aliments pour animaux  \\\n",
       "10  Afghanistan        Agrumes, Autres  vegetale                    NaN   \n",
       "16  Afghanistan  Aliments pour enfants  vegetale                    NaN   \n",
       "22  Afghanistan                 Ananas  vegetale                    NaN   \n",
       "28  Afghanistan                Bananes  vegetale                    NaN   \n",
       "40  Afghanistan                  Bière  vegetale                    NaN   \n",
       "\n",
       "    Autres Utilisations  Disponibilité alimentaire (Kcal/personne/jour)  \\\n",
       "10                  NaN                                             1.0   \n",
       "16                  NaN                                             1.0   \n",
       "22                  NaN                                             0.0   \n",
       "28                  NaN                                             4.0   \n",
       "40                  NaN                                             0.0   \n",
       "\n",
       "    Disponibilité alimentaire en quantité (kg/personne/an)  \\\n",
       "10                                               1.29        \n",
       "16                                               0.06        \n",
       "22                                               0.00        \n",
       "28                                               2.70        \n",
       "40                                               0.09        \n",
       "\n",
       "    Disponibilité de matière grasse en quantité (g/personne/jour)  \\\n",
       "10                                               0.01               \n",
       "16                                               0.01               \n",
       "22                                                NaN               \n",
       "28                                               0.02               \n",
       "40                                                NaN               \n",
       "\n",
       "    Disponibilité de protéines en quantité (g/personne/jour)  \\\n",
       "10                                               0.02          \n",
       "16                                               0.03          \n",
       "22                                                NaN          \n",
       "28                                               0.05          \n",
       "40                                               0.00          \n",
       "\n",
       "    Disponibilité intérieure  ...  Pertes  Production  Semences  Traitement  \\\n",
       "10                      41.0  ...     2.0         3.0       NaN         NaN   \n",
       "16                       2.0  ...     NaN         NaN       NaN         NaN   \n",
       "22                       0.0  ...     NaN         NaN       NaN         NaN   \n",
       "28                      82.0  ...     NaN         NaN       NaN         NaN   \n",
       "40                       3.0  ...     NaN         NaN       NaN         NaN   \n",
       "\n",
       "    Variation de stock  Année  Population  \\\n",
       "10                 NaN   2017   36296.113   \n",
       "16                 NaN   2017   36296.113   \n",
       "22                 NaN   2017   36296.113   \n",
       "28                 NaN   2017   36296.113   \n",
       "40                 NaN   2017   36296.113   \n",
       "\n",
       "    Disponibilité alimentaire (Kcal/an)  \\\n",
       "10                         1.324808e+07   \n",
       "16                         1.324808e+07   \n",
       "22                         0.000000e+00   \n",
       "28                         5.299232e+07   \n",
       "40                         0.000000e+00   \n",
       "\n",
       "    Disponibilité de protéines en quantité (Kg/an)  \\\n",
       "10                                      264.961625   \n",
       "16                                      397.442437   \n",
       "22                                             NaN   \n",
       "28                                      662.404062   \n",
       "40                                        0.000000   \n",
       "\n",
       "    Disponibilité alimentaire en quantité (Kg/an)  \n",
       "10                                    46821.98577  \n",
       "16                                     2177.76678  \n",
       "22                                        0.00000  \n",
       "28                                    97999.50510  \n",
       "40                                     3266.65017  \n",
       "\n",
       "[5 rows x 23 columns]"
      ]
     },
     "execution_count": 22,
     "metadata": {},
     "output_type": "execute_result"
    }
   ],
   "source": [
    "#Création du dataframe (df8) à partir du dataframe des bilans alimentaires (df2) \n",
    "#Projection et Réduction des données pour cibler uniquement les produits végétaux\n",
    "df_dispo_végétale=df_dispo_alimentaire[df_dispo_alimentaire['Origine'] == 'vegetale']\n",
    "df_dispo_végétale.head()"
   ]
  },
  {
   "cell_type": "markdown",
   "id": "76f603df",
   "metadata": {
    "slideshow": {
     "slide_type": "subslide"
    }
   },
   "source": [
    "### Résultat en termes de calories"
   ]
  },
  {
   "cell_type": "code",
   "execution_count": 23,
   "id": "74b7d7ed",
   "metadata": {
    "slideshow": {
     "slide_type": "fragment"
    }
   },
   "outputs": [
    {
     "data": {
      "text/plain": [
       "7329411550.0"
      ]
     },
     "execution_count": 23,
     "metadata": {},
     "output_type": "execute_result"
    }
   ],
   "source": [
    "humain_nourris_veg_kcal = round(df_dispo_végétale['Disponibilité alimentaire (Kcal/an)'].sum() / 859575, 2)\n",
    "humain_nourris_veg_kcal*1000"
   ]
  },
  {
   "cell_type": "markdown",
   "id": "4057119b",
   "metadata": {
    "slideshow": {
     "slide_type": "fragment"
    }
   },
   "source": [
    "**Plus de 7 milliards** de personnes pouraient êtres nourries à partir de la disponibilité végétale."
   ]
  },
  {
   "cell_type": "code",
   "execution_count": 24,
   "id": "e2487e9e",
   "metadata": {
    "slideshow": {
     "slide_type": "fragment"
    }
   },
   "outputs": [
    {
     "data": {
      "text/plain": [
       "97.1"
      ]
     },
     "execution_count": 24,
     "metadata": {},
     "output_type": "execute_result"
    }
   ],
   "source": [
    "pourcentage_humain_nourris_veg_cal = round((humain_nourris_veg_kcal*1000 / population_mondiale * 100),2)\n",
    "pourcentage_humain_nourris_veg_cal"
   ]
  },
  {
   "cell_type": "markdown",
   "id": "3c7484f9",
   "metadata": {
    "slideshow": {
     "slide_type": "fragment"
    }
   },
   "source": [
    "Soit **97,1%** de la population mondiale."
   ]
  },
  {
   "cell_type": "markdown",
   "id": "c4bb969b",
   "metadata": {
    "slideshow": {
     "slide_type": "subslide"
    }
   },
   "source": [
    "###  Résultat en termes de protéines"
   ]
  },
  {
   "cell_type": "code",
   "execution_count": 25,
   "id": "b7491f09",
   "metadata": {
    "slideshow": {
     "slide_type": "fragment"
    }
   },
   "outputs": [
    {
     "data": {
      "text/plain": [
       "7391870520.0"
      ]
     },
     "execution_count": 25,
     "metadata": {},
     "output_type": "execute_result"
    }
   ],
   "source": [
    "humain_nourris_veg_kgprot = round(df_dispo_végétale['Disponibilité de protéines en quantité (Kg/an)'].sum() / 17.68, 2)\n",
    "humain_nourris_veg_kgprot*1000"
   ]
  },
  {
   "cell_type": "markdown",
   "id": "1c30ab6d",
   "metadata": {
    "slideshow": {
     "slide_type": "fragment"
    }
   },
   "source": [
    "**Plus de 7 milliards** de personnes qui pouraient êtres nouries à partir de la disponiblité végétale."
   ]
  },
  {
   "cell_type": "code",
   "execution_count": 26,
   "id": "7468a3c4",
   "metadata": {
    "slideshow": {
     "slide_type": "fragment"
    }
   },
   "outputs": [
    {
     "data": {
      "text/plain": [
       "97.93"
      ]
     },
     "execution_count": 26,
     "metadata": {},
     "output_type": "execute_result"
    }
   ],
   "source": [
    "pourcentage_humain_nourris_veg_gprot = round((humain_nourris_veg_kgprot*1000 / population_mondiale * 100),2)\n",
    "pourcentage_humain_nourris_veg_gprot"
   ]
  },
  {
   "cell_type": "markdown",
   "id": "e5a7a11d",
   "metadata": {
    "slideshow": {
     "slide_type": "fragment"
    }
   },
   "source": [
    "Soit **97,93%** de la population mondiale. "
   ]
  },
  {
   "cell_type": "markdown",
   "id": "6277eaee",
   "metadata": {
    "slideshow": {
     "slide_type": "slide"
    }
   },
   "source": [
    "## La disponibilité interieure"
   ]
  },
  {
   "cell_type": "markdown",
   "id": "1d953881",
   "metadata": {
    "slideshow": {
     "slide_type": "fragment"
    }
   },
   "source": [
    "La disponibilité intérieure constitue le premier pilier de la sécurité alimentaire. Les approvisionnements\n",
    "de la disponibilité d’un pays proviennent généralement de la production nationale et des importations,\n",
    "et parfois des stocks. La disponibilité intérieure désigne la quantité de produits disponible pour les\n",
    "utilisations intérieures. Elle est calculée comme suit :\n",
    "\n",
    " **Disponibilité intérieure = Production + Importations - Exportations + Evolutions des stocks**\n",
    "\n",
    " **Disponibilité intérieure= Nourriture +  Semences + Pertes + Aliments pour animaux + Autre utilisation + Traitement**\n",
    "\n",
    " \n",
    " "
   ]
  },
  {
   "cell_type": "markdown",
   "id": "53ac2476",
   "metadata": {
    "slideshow": {
     "slide_type": "subslide"
    }
   },
   "source": [
    " **Nourriture** = Disponibilité intérieure - Semences - Pertes - Aliments pour animaux - Autre utilisation - Traitement"
   ]
  },
  {
   "cell_type": "markdown",
   "id": "06ab0144",
   "metadata": {
    "slideshow": {
     "slide_type": "fragment"
    }
   },
   "source": [
    " **Aliments pour animaux** = Nourriture - disponibilité interieur + semence + pertes + autre utilistion + traitement"
   ]
  },
  {
   "cell_type": "markdown",
   "id": "ab9cdea9",
   "metadata": {
    "slideshow": {
     "slide_type": "fragment"
    }
   },
   "source": [
    "    \n",
    " **pertes** = Nourritue - disponibilité limentaire + aliments pour animaux + semence + autre utilisation + traitement"
   ]
  },
  {
   "cell_type": "markdown",
   "id": "27600973",
   "metadata": {
    "slideshow": {
     "slide_type": "slide"
    }
   },
   "source": [
    "\n",
    "### la disponibilité intérieure "
   ]
  },
  {
   "cell_type": "code",
   "execution_count": 27,
   "id": "e19e3023",
   "metadata": {
    "slideshow": {
     "slide_type": "fragment"
    }
   },
   "outputs": [
    {
     "data": {
      "text/plain": [
       "9733927.0"
      ]
     },
     "execution_count": 27,
     "metadata": {},
     "output_type": "execute_result"
    }
   ],
   "source": [
    "dispo_interieure = df_dispo_alimentaire[\"Disponibilité intérieure\"].sum()\n",
    "dispo_interieure"
   ]
  },
  {
   "cell_type": "markdown",
   "id": "e3438b21",
   "metadata": {
    "slideshow": {
     "slide_type": "fragment"
    }
   },
   "source": [
    "La disponibilité intérieure mondiale est plus de **9 million de tonnes**"
   ]
  },
  {
   "cell_type": "markdown",
   "id": "c42e4737",
   "metadata": {
    "slideshow": {
     "slide_type": "subslide"
    }
   },
   "source": [
    "### La proportion de l'alimentation animale "
   ]
  },
  {
   "cell_type": "code",
   "execution_count": 28,
   "id": "50d33c0e",
   "metadata": {
    "slideshow": {
     "slide_type": "fragment"
    }
   },
   "outputs": [
    {
     "data": {
      "text/plain": [
       "1288002.0"
      ]
     },
     "execution_count": 28,
     "metadata": {},
     "output_type": "execute_result"
    }
   ],
   "source": [
    "alimentation_animal = df_dispo_alimentaire[\"Aliments pour animaux\"].sum()\n",
    "alimentation_animal"
   ]
  },
  {
   "cell_type": "code",
   "execution_count": 51,
   "id": "fb6641e3",
   "metadata": {
    "slideshow": {
     "slide_type": "fragment"
    }
   },
   "outputs": [
    {
     "data": {
      "text/plain": [
       "13.232090193402929"
      ]
     },
     "execution_count": 51,
     "metadata": {},
     "output_type": "execute_result"
    }
   ],
   "source": [
    "proportion_alimentation_animal = alimentation_animal/dispo_interieure\n",
    "proportion_alimentation_animal*100"
   ]
  },
  {
   "cell_type": "markdown",
   "id": "89adcf06",
   "metadata": {
    "slideshow": {
     "slide_type": "fragment"
    }
   },
   "source": [
    "**13,23%** de l'alimentation intérieure est distinée au animaux."
   ]
  },
  {
   "cell_type": "markdown",
   "id": "fcd09558",
   "metadata": {
    "slideshow": {
     "slide_type": "subslide"
    }
   },
   "source": [
    "### La proportion de l'alimentation humaine"
   ]
  },
  {
   "cell_type": "code",
   "execution_count": 30,
   "id": "0d813217",
   "metadata": {
    "slideshow": {
     "slide_type": "fragment"
    }
   },
   "outputs": [
    {
     "data": {
      "text/plain": [
       "4805525.0"
      ]
     },
     "execution_count": 30,
     "metadata": {},
     "output_type": "execute_result"
    }
   ],
   "source": [
    "alimentation_humaine = df_dispo_alimentaire[\"Nourriture\"].sum()\n",
    "alimentation_humaine"
   ]
  },
  {
   "cell_type": "code",
   "execution_count": 50,
   "id": "5c3532aa",
   "metadata": {
    "slideshow": {
     "slide_type": "fragment"
    }
   },
   "outputs": [
    {
     "data": {
      "text/plain": [
       "49.36882103184049"
      ]
     },
     "execution_count": 50,
     "metadata": {},
     "output_type": "execute_result"
    }
   ],
   "source": [
    "proportion_alimentation_humaine = alimentation_humaine/dispo_interieure\n",
    "proportion_alimentation_humaine*100"
   ]
  },
  {
   "cell_type": "markdown",
   "id": "d8fa3926",
   "metadata": {
    "slideshow": {
     "slide_type": "fragment"
    }
   },
   "source": [
    "**49,36%** de l'alimentation intérieure est distinée à l'être humain. "
   ]
  },
  {
   "cell_type": "markdown",
   "id": "d56ca7ac",
   "metadata": {
    "slideshow": {
     "slide_type": "subslide"
    }
   },
   "source": [
    "### La proportion de l'alimentation perdue"
   ]
  },
  {
   "cell_type": "code",
   "execution_count": 32,
   "id": "0510fb34",
   "metadata": {
    "slideshow": {
     "slide_type": "fragment"
    }
   },
   "outputs": [
    {
     "data": {
      "text/plain": [
       "452283.0"
      ]
     },
     "execution_count": 32,
     "metadata": {},
     "output_type": "execute_result"
    }
   ],
   "source": [
    "alimentation_perdue = df_dispo_alimentaire[\"Pertes\"].sum()\n",
    "alimentation_perdue"
   ]
  },
  {
   "cell_type": "code",
   "execution_count": 49,
   "id": "b4872b8b",
   "metadata": {
    "slideshow": {
     "slide_type": "fragment"
    }
   },
   "outputs": [
    {
     "data": {
      "text/plain": [
       "4.646459748465341"
      ]
     },
     "execution_count": 49,
     "metadata": {},
     "output_type": "execute_result"
    }
   ],
   "source": [
    "proportion_alimentation_perdue = alimentation_perdue/dispo_interieure\n",
    "proportion_alimentation_perdue*100"
   ]
  },
  {
   "cell_type": "markdown",
   "id": "15ecae1c",
   "metadata": {
    "slideshow": {
     "slide_type": "fragment"
    }
   },
   "source": [
    "**4,64%** de l'alimentation intérieure est perdue"
   ]
  },
  {
   "cell_type": "code",
   "execution_count": 34,
   "id": "3cebf37e",
   "metadata": {
    "slideshow": {
     "slide_type": "slide"
    }
   },
   "outputs": [
    {
     "data": {
      "text/plain": [
       "<matplotlib.legend.Legend at 0x228c75b1f40>"
      ]
     },
     "execution_count": 34,
     "metadata": {},
     "output_type": "execute_result"
    },
    {
     "data": {
      "image/png": "[encoded data removed]",
      "text/plain": [
       "<Figure size 576x576 with 1 Axes>"
      ]
     },
     "metadata": {},
     "output_type": "display_data"
    }
   ],
   "source": [
    "plt.figure(figsize = (8, 8))\n",
    "x = [ 49.368, 13.23, 4.646,32.754]\n",
    "plt.pie(x, labels = ['Alimentation humaine', 'Alimentation animal', 'Alimentation perdue', 'Autre'],\n",
    "           colors = ['blue', 'green', 'red', 'orange'],\n",
    "           explode = [0, 0, 0, 0],\n",
    "           autopct = lambda x: str(round(x, 2)) + '%',\n",
    "           pctdistance = 0.6,\n",
    "           shadow = True)\n",
    "plt.legend()"
   ]
  },
  {
   "cell_type": "markdown",
   "id": "82d5f4d8",
   "metadata": {
    "slideshow": {
     "slide_type": "slide"
    }
   },
   "source": [
    "## L'utilisation de la disponibilité interieure des céreals"
   ]
  },
  {
   "cell_type": "code",
   "execution_count": 35,
   "id": "62f30131",
   "metadata": {
    "slideshow": {
     "slide_type": "skip"
    }
   },
   "outputs": [],
   "source": [
    "# inserer la colonne is_cereal dans la dataframe df_dispo_alimentaire  \n",
    "is_cereals=[]\n",
    "l_cereals= [\"Blé\",\"Seigle\",\"Orge\",\"Avoine\",\"Maïs\",\"Riz\",\"Sarrasin\",\"Sorgho\",\"Mil\",\"Quinoa\",\"Céréales, Autres\"]\n",
    "\n",
    "for row in df_dispo_alimentaire['Produit'] :\n",
    "    if row in l_cereals :\n",
    "        is_cereals.append(True)\n",
    "    else : \n",
    "        is_cereals.append(False)\n",
    "              "
   ]
  },
  {
   "cell_type": "code",
   "execution_count": 36,
   "id": "1473f459",
   "metadata": {
    "slideshow": {
     "slide_type": "skip"
    }
   },
   "outputs": [
    {
     "data": {
      "text/html": [
       "<div>\n",
       "<style scoped>\n",
       "    .dataframe tbody tr th:only-of-type {\n",
       "        vertical-align: middle;\n",
       "    }\n",
       "\n",
       "    .dataframe tbody tr th {\n",
       "        vertical-align: top;\n",
       "    }\n",
       "\n",
       "    .dataframe thead th {\n",
       "        text-align: right;\n",
       "    }\n",
       "</style>\n",
       "<table border=\"1\" class=\"dataframe\">\n",
       "  <thead>\n",
       "    <tr style=\"text-align: right;\">\n",
       "      <th></th>\n",
       "      <th>Zone</th>\n",
       "      <th>Produit</th>\n",
       "      <th>Origine</th>\n",
       "      <th>Aliments pour animaux</th>\n",
       "      <th>is_cereal</th>\n",
       "      <th>Autres Utilisations</th>\n",
       "      <th>Disponibilité alimentaire (Kcal/personne/jour)</th>\n",
       "      <th>Disponibilité alimentaire en quantité (kg/personne/an)</th>\n",
       "      <th>Disponibilité de matière grasse en quantité (g/personne/jour)</th>\n",
       "      <th>Disponibilité de protéines en quantité (g/personne/jour)</th>\n",
       "      <th>...</th>\n",
       "      <th>Pertes</th>\n",
       "      <th>Production</th>\n",
       "      <th>Semences</th>\n",
       "      <th>Traitement</th>\n",
       "      <th>Variation de stock</th>\n",
       "      <th>Année</th>\n",
       "      <th>Population</th>\n",
       "      <th>Disponibilité alimentaire (Kcal/an)</th>\n",
       "      <th>Disponibilité de protéines en quantité (Kg/an)</th>\n",
       "      <th>Disponibilité alimentaire en quantité (Kg/an)</th>\n",
       "    </tr>\n",
       "  </thead>\n",
       "  <tbody>\n",
       "    <tr>\n",
       "      <th>4</th>\n",
       "      <td>Afghanistan</td>\n",
       "      <td>Abats Comestible</td>\n",
       "      <td>animale</td>\n",
       "      <td>NaN</td>\n",
       "      <td>False</td>\n",
       "      <td>NaN</td>\n",
       "      <td>5.0</td>\n",
       "      <td>1.72</td>\n",
       "      <td>0.20</td>\n",
       "      <td>0.77</td>\n",
       "      <td>...</td>\n",
       "      <td>NaN</td>\n",
       "      <td>53.0</td>\n",
       "      <td>NaN</td>\n",
       "      <td>NaN</td>\n",
       "      <td>NaN</td>\n",
       "      <td>2017</td>\n",
       "      <td>36296.113</td>\n",
       "      <td>6.624041e+07</td>\n",
       "      <td>10201.022559</td>\n",
       "      <td>62429.31436</td>\n",
       "    </tr>\n",
       "    <tr>\n",
       "      <th>10</th>\n",
       "      <td>Afghanistan</td>\n",
       "      <td>Agrumes, Autres</td>\n",
       "      <td>vegetale</td>\n",
       "      <td>NaN</td>\n",
       "      <td>False</td>\n",
       "      <td>NaN</td>\n",
       "      <td>1.0</td>\n",
       "      <td>1.29</td>\n",
       "      <td>0.01</td>\n",
       "      <td>0.02</td>\n",
       "      <td>...</td>\n",
       "      <td>2.0</td>\n",
       "      <td>3.0</td>\n",
       "      <td>NaN</td>\n",
       "      <td>NaN</td>\n",
       "      <td>NaN</td>\n",
       "      <td>2017</td>\n",
       "      <td>36296.113</td>\n",
       "      <td>1.324808e+07</td>\n",
       "      <td>264.961625</td>\n",
       "      <td>46821.98577</td>\n",
       "    </tr>\n",
       "    <tr>\n",
       "      <th>16</th>\n",
       "      <td>Afghanistan</td>\n",
       "      <td>Aliments pour enfants</td>\n",
       "      <td>vegetale</td>\n",
       "      <td>NaN</td>\n",
       "      <td>False</td>\n",
       "      <td>NaN</td>\n",
       "      <td>1.0</td>\n",
       "      <td>0.06</td>\n",
       "      <td>0.01</td>\n",
       "      <td>0.03</td>\n",
       "      <td>...</td>\n",
       "      <td>NaN</td>\n",
       "      <td>NaN</td>\n",
       "      <td>NaN</td>\n",
       "      <td>NaN</td>\n",
       "      <td>NaN</td>\n",
       "      <td>2017</td>\n",
       "      <td>36296.113</td>\n",
       "      <td>1.324808e+07</td>\n",
       "      <td>397.442437</td>\n",
       "      <td>2177.76678</td>\n",
       "    </tr>\n",
       "    <tr>\n",
       "      <th>22</th>\n",
       "      <td>Afghanistan</td>\n",
       "      <td>Ananas</td>\n",
       "      <td>vegetale</td>\n",
       "      <td>NaN</td>\n",
       "      <td>False</td>\n",
       "      <td>NaN</td>\n",
       "      <td>0.0</td>\n",
       "      <td>0.00</td>\n",
       "      <td>NaN</td>\n",
       "      <td>NaN</td>\n",
       "      <td>...</td>\n",
       "      <td>NaN</td>\n",
       "      <td>NaN</td>\n",
       "      <td>NaN</td>\n",
       "      <td>NaN</td>\n",
       "      <td>NaN</td>\n",
       "      <td>2017</td>\n",
       "      <td>36296.113</td>\n",
       "      <td>0.000000e+00</td>\n",
       "      <td>NaN</td>\n",
       "      <td>0.00000</td>\n",
       "    </tr>\n",
       "    <tr>\n",
       "      <th>28</th>\n",
       "      <td>Afghanistan</td>\n",
       "      <td>Bananes</td>\n",
       "      <td>vegetale</td>\n",
       "      <td>NaN</td>\n",
       "      <td>False</td>\n",
       "      <td>NaN</td>\n",
       "      <td>4.0</td>\n",
       "      <td>2.70</td>\n",
       "      <td>0.02</td>\n",
       "      <td>0.05</td>\n",
       "      <td>...</td>\n",
       "      <td>NaN</td>\n",
       "      <td>NaN</td>\n",
       "      <td>NaN</td>\n",
       "      <td>NaN</td>\n",
       "      <td>NaN</td>\n",
       "      <td>2017</td>\n",
       "      <td>36296.113</td>\n",
       "      <td>5.299232e+07</td>\n",
       "      <td>662.404062</td>\n",
       "      <td>97999.50510</td>\n",
       "    </tr>\n",
       "  </tbody>\n",
       "</table>\n",
       "<p>5 rows × 24 columns</p>\n",
       "</div>"
      ],
      "text/plain": [
       "           Zone                Produit   Origine  Aliments pour animaux  \\\n",
       "4   Afghanistan       Abats Comestible   animale                    NaN   \n",
       "10  Afghanistan        Agrumes, Autres  vegetale                    NaN   \n",
       "16  Afghanistan  Aliments pour enfants  vegetale                    NaN   \n",
       "22  Afghanistan                 Ananas  vegetale                    NaN   \n",
       "28  Afghanistan                Bananes  vegetale                    NaN   \n",
       "\n",
       "    is_cereal  Autres Utilisations  \\\n",
       "4       False                  NaN   \n",
       "10      False                  NaN   \n",
       "16      False                  NaN   \n",
       "22      False                  NaN   \n",
       "28      False                  NaN   \n",
       "\n",
       "    Disponibilité alimentaire (Kcal/personne/jour)  \\\n",
       "4                                              5.0   \n",
       "10                                             1.0   \n",
       "16                                             1.0   \n",
       "22                                             0.0   \n",
       "28                                             4.0   \n",
       "\n",
       "    Disponibilité alimentaire en quantité (kg/personne/an)  \\\n",
       "4                                                1.72        \n",
       "10                                               1.29        \n",
       "16                                               0.06        \n",
       "22                                               0.00        \n",
       "28                                               2.70        \n",
       "\n",
       "    Disponibilité de matière grasse en quantité (g/personne/jour)  \\\n",
       "4                                                0.20               \n",
       "10                                               0.01               \n",
       "16                                               0.01               \n",
       "22                                                NaN               \n",
       "28                                               0.02               \n",
       "\n",
       "    Disponibilité de protéines en quantité (g/personne/jour)  ...  Pertes  \\\n",
       "4                                                0.77         ...     NaN   \n",
       "10                                               0.02         ...     2.0   \n",
       "16                                               0.03         ...     NaN   \n",
       "22                                                NaN         ...     NaN   \n",
       "28                                               0.05         ...     NaN   \n",
       "\n",
       "    Production  Semences  Traitement  Variation de stock  Année  Population  \\\n",
       "4         53.0       NaN         NaN                 NaN   2017   36296.113   \n",
       "10         3.0       NaN         NaN                 NaN   2017   36296.113   \n",
       "16         NaN       NaN         NaN                 NaN   2017   36296.113   \n",
       "22         NaN       NaN         NaN                 NaN   2017   36296.113   \n",
       "28         NaN       NaN         NaN                 NaN   2017   36296.113   \n",
       "\n",
       "    Disponibilité alimentaire (Kcal/an)  \\\n",
       "4                          6.624041e+07   \n",
       "10                         1.324808e+07   \n",
       "16                         1.324808e+07   \n",
       "22                         0.000000e+00   \n",
       "28                         5.299232e+07   \n",
       "\n",
       "    Disponibilité de protéines en quantité (Kg/an)  \\\n",
       "4                                     10201.022559   \n",
       "10                                      264.961625   \n",
       "16                                      397.442437   \n",
       "22                                             NaN   \n",
       "28                                      662.404062   \n",
       "\n",
       "    Disponibilité alimentaire en quantité (Kg/an)  \n",
       "4                                     62429.31436  \n",
       "10                                    46821.98577  \n",
       "16                                     2177.76678  \n",
       "22                                        0.00000  \n",
       "28                                    97999.50510  \n",
       "\n",
       "[5 rows x 24 columns]"
      ]
     },
     "execution_count": 36,
     "metadata": {},
     "output_type": "execute_result"
    }
   ],
   "source": [
    "df_dispo_alimentaire.insert(4,'is_cereal', '')\n",
    "df_dispo_alimentaire['is_cereal']=is_cereals\n",
    "df_dispo_alimentaire.head()"
   ]
  },
  {
   "cell_type": "code",
   "execution_count": 37,
   "id": "9f900f2b",
   "metadata": {
    "slideshow": {
     "slide_type": "skip"
    }
   },
   "outputs": [
    {
     "data": {
      "text/html": [
       "<div>\n",
       "<style scoped>\n",
       "    .dataframe tbody tr th:only-of-type {\n",
       "        vertical-align: middle;\n",
       "    }\n",
       "\n",
       "    .dataframe tbody tr th {\n",
       "        vertical-align: top;\n",
       "    }\n",
       "\n",
       "    .dataframe thead th {\n",
       "        text-align: right;\n",
       "    }\n",
       "</style>\n",
       "<table border=\"1\" class=\"dataframe\">\n",
       "  <thead>\n",
       "    <tr style=\"text-align: right;\">\n",
       "      <th></th>\n",
       "      <th>Zone</th>\n",
       "      <th>Produit</th>\n",
       "      <th>Origine</th>\n",
       "      <th>Aliments pour animaux</th>\n",
       "      <th>is_cereal</th>\n",
       "      <th>Autres Utilisations</th>\n",
       "      <th>Disponibilité alimentaire (Kcal/personne/jour)</th>\n",
       "      <th>Disponibilité alimentaire en quantité (kg/personne/an)</th>\n",
       "      <th>Disponibilité de matière grasse en quantité (g/personne/jour)</th>\n",
       "      <th>Disponibilité de protéines en quantité (g/personne/jour)</th>\n",
       "      <th>...</th>\n",
       "      <th>Pertes</th>\n",
       "      <th>Production</th>\n",
       "      <th>Semences</th>\n",
       "      <th>Traitement</th>\n",
       "      <th>Variation de stock</th>\n",
       "      <th>Année</th>\n",
       "      <th>Population</th>\n",
       "      <th>Disponibilité alimentaire (Kcal/an)</th>\n",
       "      <th>Disponibilité de protéines en quantité (Kg/an)</th>\n",
       "      <th>Disponibilité alimentaire en quantité (Kg/an)</th>\n",
       "    </tr>\n",
       "  </thead>\n",
       "  <tbody>\n",
       "    <tr>\n",
       "      <th>46</th>\n",
       "      <td>Afghanistan</td>\n",
       "      <td>Blé</td>\n",
       "      <td>vegetale</td>\n",
       "      <td>NaN</td>\n",
       "      <td>True</td>\n",
       "      <td>NaN</td>\n",
       "      <td>1369.0</td>\n",
       "      <td>160.23</td>\n",
       "      <td>4.69</td>\n",
       "      <td>36.91</td>\n",
       "      <td>...</td>\n",
       "      <td>775.0</td>\n",
       "      <td>5169.0</td>\n",
       "      <td>322.0</td>\n",
       "      <td>NaN</td>\n",
       "      <td>-350.0</td>\n",
       "      <td>2017</td>\n",
       "      <td>36296.113</td>\n",
       "      <td>1.813662e+10</td>\n",
       "      <td>488986.678753</td>\n",
       "      <td>5.815726e+06</td>\n",
       "    </tr>\n",
       "    <tr>\n",
       "      <th>76</th>\n",
       "      <td>Afghanistan</td>\n",
       "      <td>Céréales, Autres</td>\n",
       "      <td>vegetale</td>\n",
       "      <td>NaN</td>\n",
       "      <td>True</td>\n",
       "      <td>NaN</td>\n",
       "      <td>0.0</td>\n",
       "      <td>0.00</td>\n",
       "      <td>0.00</td>\n",
       "      <td>0.00</td>\n",
       "      <td>...</td>\n",
       "      <td>NaN</td>\n",
       "      <td>NaN</td>\n",
       "      <td>NaN</td>\n",
       "      <td>NaN</td>\n",
       "      <td>NaN</td>\n",
       "      <td>2017</td>\n",
       "      <td>36296.113</td>\n",
       "      <td>0.000000e+00</td>\n",
       "      <td>0.000000</td>\n",
       "      <td>0.000000e+00</td>\n",
       "    </tr>\n",
       "    <tr>\n",
       "      <th>196</th>\n",
       "      <td>Afghanistan</td>\n",
       "      <td>Maïs</td>\n",
       "      <td>vegetale</td>\n",
       "      <td>200.0</td>\n",
       "      <td>True</td>\n",
       "      <td>NaN</td>\n",
       "      <td>21.0</td>\n",
       "      <td>2.50</td>\n",
       "      <td>0.30</td>\n",
       "      <td>0.56</td>\n",
       "      <td>...</td>\n",
       "      <td>31.0</td>\n",
       "      <td>312.0</td>\n",
       "      <td>5.0</td>\n",
       "      <td>NaN</td>\n",
       "      <td>NaN</td>\n",
       "      <td>2017</td>\n",
       "      <td>36296.113</td>\n",
       "      <td>2.782097e+08</td>\n",
       "      <td>7418.925497</td>\n",
       "      <td>9.074028e+04</td>\n",
       "    </tr>\n",
       "    <tr>\n",
       "      <th>244</th>\n",
       "      <td>Afghanistan</td>\n",
       "      <td>Orge</td>\n",
       "      <td>vegetale</td>\n",
       "      <td>360.0</td>\n",
       "      <td>True</td>\n",
       "      <td>NaN</td>\n",
       "      <td>26.0</td>\n",
       "      <td>2.92</td>\n",
       "      <td>0.24</td>\n",
       "      <td>0.79</td>\n",
       "      <td>...</td>\n",
       "      <td>52.0</td>\n",
       "      <td>514.0</td>\n",
       "      <td>22.0</td>\n",
       "      <td>NaN</td>\n",
       "      <td>0.0</td>\n",
       "      <td>2017</td>\n",
       "      <td>36296.113</td>\n",
       "      <td>3.444501e+08</td>\n",
       "      <td>10465.984184</td>\n",
       "      <td>1.059846e+05</td>\n",
       "    </tr>\n",
       "    <tr>\n",
       "      <th>406</th>\n",
       "      <td>Afrique du Sud</td>\n",
       "      <td>Avoine</td>\n",
       "      <td>vegetale</td>\n",
       "      <td>8.0</td>\n",
       "      <td>True</td>\n",
       "      <td>NaN</td>\n",
       "      <td>5.0</td>\n",
       "      <td>0.75</td>\n",
       "      <td>0.09</td>\n",
       "      <td>0.16</td>\n",
       "      <td>...</td>\n",
       "      <td>1.0</td>\n",
       "      <td>28.0</td>\n",
       "      <td>1.0</td>\n",
       "      <td>NaN</td>\n",
       "      <td>0.0</td>\n",
       "      <td>2017</td>\n",
       "      <td>57009.756</td>\n",
       "      <td>1.040428e+08</td>\n",
       "      <td>3329.369750</td>\n",
       "      <td>4.275732e+04</td>\n",
       "    </tr>\n",
       "  </tbody>\n",
       "</table>\n",
       "<p>5 rows × 24 columns</p>\n",
       "</div>"
      ],
      "text/plain": [
       "               Zone           Produit   Origine  Aliments pour animaux  \\\n",
       "46      Afghanistan               Blé  vegetale                    NaN   \n",
       "76      Afghanistan  Céréales, Autres  vegetale                    NaN   \n",
       "196     Afghanistan              Maïs  vegetale                  200.0   \n",
       "244     Afghanistan              Orge  vegetale                  360.0   \n",
       "406  Afrique du Sud            Avoine  vegetale                    8.0   \n",
       "\n",
       "     is_cereal  Autres Utilisations  \\\n",
       "46        True                  NaN   \n",
       "76        True                  NaN   \n",
       "196       True                  NaN   \n",
       "244       True                  NaN   \n",
       "406       True                  NaN   \n",
       "\n",
       "     Disponibilité alimentaire (Kcal/personne/jour)  \\\n",
       "46                                           1369.0   \n",
       "76                                              0.0   \n",
       "196                                            21.0   \n",
       "244                                            26.0   \n",
       "406                                             5.0   \n",
       "\n",
       "     Disponibilité alimentaire en quantité (kg/personne/an)  \\\n",
       "46                                              160.23        \n",
       "76                                                0.00        \n",
       "196                                               2.50        \n",
       "244                                               2.92        \n",
       "406                                               0.75        \n",
       "\n",
       "     Disponibilité de matière grasse en quantité (g/personne/jour)  \\\n",
       "46                                                4.69               \n",
       "76                                                0.00               \n",
       "196                                               0.30               \n",
       "244                                               0.24               \n",
       "406                                               0.09               \n",
       "\n",
       "     Disponibilité de protéines en quantité (g/personne/jour)  ...  Pertes  \\\n",
       "46                                               36.91         ...   775.0   \n",
       "76                                                0.00         ...     NaN   \n",
       "196                                               0.56         ...    31.0   \n",
       "244                                               0.79         ...    52.0   \n",
       "406                                               0.16         ...     1.0   \n",
       "\n",
       "     Production  Semences  Traitement  Variation de stock  Année  Population  \\\n",
       "46       5169.0     322.0         NaN              -350.0   2017   36296.113   \n",
       "76          NaN       NaN         NaN                 NaN   2017   36296.113   \n",
       "196       312.0       5.0         NaN                 NaN   2017   36296.113   \n",
       "244       514.0      22.0         NaN                 0.0   2017   36296.113   \n",
       "406        28.0       1.0         NaN                 0.0   2017   57009.756   \n",
       "\n",
       "     Disponibilité alimentaire (Kcal/an)  \\\n",
       "46                          1.813662e+10   \n",
       "76                          0.000000e+00   \n",
       "196                         2.782097e+08   \n",
       "244                         3.444501e+08   \n",
       "406                         1.040428e+08   \n",
       "\n",
       "     Disponibilité de protéines en quantité (Kg/an)  \\\n",
       "46                                    488986.678753   \n",
       "76                                         0.000000   \n",
       "196                                     7418.925497   \n",
       "244                                    10465.984184   \n",
       "406                                     3329.369750   \n",
       "\n",
       "     Disponibilité alimentaire en quantité (Kg/an)  \n",
       "46                                    5.815726e+06  \n",
       "76                                    0.000000e+00  \n",
       "196                                   9.074028e+04  \n",
       "244                                   1.059846e+05  \n",
       "406                                   4.275732e+04  \n",
       "\n",
       "[5 rows x 24 columns]"
      ]
     },
     "execution_count": 37,
     "metadata": {},
     "output_type": "execute_result"
    }
   ],
   "source": [
    "#Création du dataframe (df100) selon la restriction des produits céréaliers \n",
    "df_cereals = df_dispo_alimentaire[df_dispo_alimentaire.is_cereal == True]\n",
    "df_cereals.head()"
   ]
  },
  {
   "cell_type": "markdown",
   "id": "38019752",
   "metadata": {
    "slideshow": {
     "slide_type": "subslide"
    }
   },
   "source": [
    "## Proportion des céréales destinée à l'alimentation humaine sur l'année 2017(en terme de poid)"
   ]
  },
  {
   "cell_type": "code",
   "execution_count": 38,
   "id": "79b73b2a",
   "metadata": {
    "slideshow": {
     "slide_type": "fragment"
    }
   },
   "outputs": [
    {
     "data": {
      "text/plain": [
       "620594.0"
      ]
     },
     "execution_count": 38,
     "metadata": {},
     "output_type": "execute_result"
    }
   ],
   "source": [
    "cereal_humain = df_cereals['Nourriture'].sum() \n",
    "cereal_humain"
   ]
  },
  {
   "cell_type": "code",
   "execution_count": 39,
   "id": "1529288a",
   "metadata": {
    "slideshow": {
     "slide_type": "fragment"
    }
   },
   "outputs": [
    {
     "data": {
      "text/plain": [
       "12.914176910951458"
      ]
     },
     "execution_count": 39,
     "metadata": {},
     "output_type": "execute_result"
    }
   ],
   "source": [
    "#alimentation_humain= dispo interieur que pour cereal, result 17,63% humaine, 69,67% animal\n",
    "proportion_cereal_humain= cereal_humain/alimentation_humaine\n",
    "proportion_cereal_humain * 100"
   ]
  },
  {
   "cell_type": "markdown",
   "id": "bf8a0f3e",
   "metadata": {
    "slideshow": {
     "slide_type": "fragment"
    }
   },
   "source": [
    "**12.91%** de l'alimentation humaine sont des céréales."
   ]
  },
  {
   "cell_type": "markdown",
   "id": "2c56fed4",
   "metadata": {
    "slideshow": {
     "slide_type": "subslide"
    }
   },
   "source": [
    "## Proportion des céréales destinée à l'alimentation animal sur l'année 2017(en terme de poid)"
   ]
  },
  {
   "cell_type": "code",
   "execution_count": 40,
   "id": "82137212",
   "metadata": {
    "scrolled": false,
    "slideshow": {
     "slide_type": "fragment"
    }
   },
   "outputs": [
    {
     "data": {
      "text/plain": [
       "822744.0"
      ]
     },
     "execution_count": 40,
     "metadata": {},
     "output_type": "execute_result"
    }
   ],
   "source": [
    " #valeur exprimée en Milliers de tonnes / an\n",
    "cereal_animal = df_cereals['Aliments pour animaux'].sum() \n",
    "cereal_animal"
   ]
  },
  {
   "cell_type": "code",
   "execution_count": 41,
   "id": "39df4ce6",
   "metadata": {
    "slideshow": {
     "slide_type": "fragment"
    }
   },
   "outputs": [
    {
     "data": {
      "text/plain": [
       "63.87754056282521"
      ]
     },
     "execution_count": 41,
     "metadata": {},
     "output_type": "execute_result"
    }
   ],
   "source": [
    "proportion_cereal_animal=cereal_animal/alimentation_animal\n",
    "proportion_cereal_animal*100"
   ]
  },
  {
   "cell_type": "markdown",
   "id": "bcace51d",
   "metadata": {
    "slideshow": {
     "slide_type": "fragment"
    }
   },
   "source": [
    "**63.87%** de l'alimentation animal sont des céréal."
   ]
  },
  {
   "cell_type": "markdown",
   "id": "342fdc20",
   "metadata": {
    "slideshow": {
     "slide_type": "slide"
    }
   },
   "source": [
    "## L'exemple du Manioc, son exportation et la sous nutrition dans le pays le plus exportateur du Manioc dans le monde."
   ]
  },
  {
   "cell_type": "markdown",
   "id": "723398c9",
   "metadata": {
    "slideshow": {
     "slide_type": "slide"
    }
   },
   "source": [
    "### Les pays exporteur du manioc dans le monde sur l'année 2017"
   ]
  },
  {
   "cell_type": "code",
   "execution_count": 62,
   "id": "8ca036c7",
   "metadata": {
    "scrolled": true,
    "slideshow": {
     "slide_type": "fragment"
    }
   },
   "outputs": [
    {
     "data": {
      "text/html": [
       "<div>\n",
       "<style scoped>\n",
       "    .dataframe tbody tr th:only-of-type {\n",
       "        vertical-align: middle;\n",
       "    }\n",
       "\n",
       "    .dataframe tbody tr th {\n",
       "        vertical-align: top;\n",
       "    }\n",
       "\n",
       "    .dataframe thead th {\n",
       "        text-align: right;\n",
       "    }\n",
       "</style>\n",
       "<table border=\"1\" class=\"dataframe\">\n",
       "  <thead>\n",
       "    <tr style=\"text-align: right;\">\n",
       "      <th></th>\n",
       "      <th>Zone</th>\n",
       "      <th>Exportations - Quantité</th>\n",
       "    </tr>\n",
       "  </thead>\n",
       "  <tbody>\n",
       "    <tr>\n",
       "      <th>81724</th>\n",
       "      <td>Thaïlande</td>\n",
       "      <td>25214.0</td>\n",
       "    </tr>\n",
       "    <tr>\n",
       "      <th>87328</th>\n",
       "      <td>Viet Nam</td>\n",
       "      <td>8973.0</td>\n",
       "    </tr>\n",
       "    <tr>\n",
       "      <th>38008</th>\n",
       "      <td>Indonésie</td>\n",
       "      <td>820.0</td>\n",
       "    </tr>\n",
       "    <tr>\n",
       "      <th>15994</th>\n",
       "      <td>Cambodge</td>\n",
       "      <td>254.0</td>\n",
       "    </tr>\n",
       "    <tr>\n",
       "      <th>64516</th>\n",
       "      <td>Paraguay</td>\n",
       "      <td>164.0</td>\n",
       "    </tr>\n",
       "  </tbody>\n",
       "</table>\n",
       "</div>"
      ],
      "text/plain": [
       "            Zone  Exportations - Quantité\n",
       "81724  Thaïlande                  25214.0\n",
       "87328   Viet Nam                   8973.0\n",
       "38008  Indonésie                    820.0\n",
       "15994   Cambodge                    254.0\n",
       "64516   Paraguay                    164.0"
      ]
     },
     "execution_count": 62,
     "metadata": {},
     "output_type": "execute_result"
    }
   ],
   "source": [
    "#Création d'un dataframe (df_pays_manioc) pour identifier et quantifier ces pays\n",
    "df_pays_manioc = (df_dispo_alimentaire[(df_dispo_alimentaire['Produit'] == 'Manioc') & (df_dispo_alimentaire['Exportations - Quantité'] != 0)])\n",
    "df_pays_manioc = df_pays_manioc.dropna(subset=['Exportations - Quantité'])\n",
    "df_pays_manioc = df_pays_manioc[['Zone', 'Exportations - Quantité']].sort_values(by='Exportations - Quantité', ascending=False)\n",
    "df_pays_manioc.head()"
   ]
  },
  {
   "cell_type": "code",
   "execution_count": 43,
   "id": "d81e39a0",
   "metadata": {
    "slideshow": {
     "slide_type": "skip"
    }
   },
   "outputs": [
    {
     "data": {
      "text/plain": [
       "43"
      ]
     },
     "execution_count": 43,
     "metadata": {},
     "output_type": "execute_result"
    }
   ],
   "source": [
    "df_pays_manioc['Zone'].nunique()"
   ]
  },
  {
   "cell_type": "markdown",
   "id": "4d24233b",
   "metadata": {
    "slideshow": {
     "slide_type": "skip"
    }
   },
   "source": [
    "Les 3 pays qui exportent le plus le Manioc sont le **Thaïlande**, le **Viet Nam** et l'**Indonésie**."
   ]
  },
  {
   "cell_type": "markdown",
   "id": "f10632fc",
   "metadata": {
    "slideshow": {
     "slide_type": "slide"
    }
   },
   "source": [
    "### Proportion des exportations du Manioc / production dans le  Thaïlande."
   ]
  },
  {
   "cell_type": "code",
   "execution_count": 44,
   "id": "84b9e65b",
   "metadata": {
    "scrolled": true,
    "slideshow": {
     "slide_type": "fragment"
    }
   },
   "outputs": [
    {
     "data": {
      "text/html": [
       "<div>\n",
       "<style scoped>\n",
       "    .dataframe tbody tr th:only-of-type {\n",
       "        vertical-align: middle;\n",
       "    }\n",
       "\n",
       "    .dataframe tbody tr th {\n",
       "        vertical-align: top;\n",
       "    }\n",
       "\n",
       "    .dataframe thead th {\n",
       "        text-align: right;\n",
       "    }\n",
       "</style>\n",
       "<table border=\"1\" class=\"dataframe\">\n",
       "  <thead>\n",
       "    <tr style=\"text-align: right;\">\n",
       "      <th></th>\n",
       "      <th>Zone</th>\n",
       "      <th>Produit</th>\n",
       "      <th>Exportations - Quantité</th>\n",
       "      <th>Production</th>\n",
       "    </tr>\n",
       "  </thead>\n",
       "  <tbody>\n",
       "    <tr>\n",
       "      <th>81724</th>\n",
       "      <td>Thaïlande</td>\n",
       "      <td>Manioc</td>\n",
       "      <td>25214.0</td>\n",
       "      <td>30228.0</td>\n",
       "    </tr>\n",
       "  </tbody>\n",
       "</table>\n",
       "</div>"
      ],
      "text/plain": [
       "            Zone Produit  Exportations - Quantité  Production\n",
       "81724  Thaïlande  Manioc                  25214.0     30228.0"
      ]
     },
     "execution_count": 44,
     "metadata": {},
     "output_type": "execute_result"
    }
   ],
   "source": [
    "#Création d'un dataframe (df_thai_manioc) à partir des bilans alimentaires du dataframe df_dispo_alimentaire\n",
    "#Restriction suivant le Pays Thaïlande et le produit Manioc\n",
    "df_thai_manioc = df_dispo_alimentaire[(df_dispo_alimentaire['Zone'] == 'Thaïlande') & (df_dispo_alimentaire['Produit'] == 'Manioc')]\n",
    "df_thai_manioc = df_thai_manioc[['Zone', 'Produit', 'Exportations - Quantité','Production']]\n",
    "df_thai_manioc"
   ]
  },
  {
   "cell_type": "code",
   "execution_count": 66,
   "id": "7e3e08c1",
   "metadata": {
    "slideshow": {
     "slide_type": "fragment"
    }
   },
   "outputs": [
    {
     "name": "stdout",
     "output_type": "stream",
     "text": [
      "25214000000.0\n",
      "30228000000.0\n"
     ]
    }
   ],
   "source": [
    "#La valeur \"Exportations - Quantité\"  sont exprimées en Milliers de tonnes\n",
    "#Conversion en tonnes\n",
    "export_manioc_thai = 25214.0 * 1000000\n",
    "print(export_manioc_thai)\n",
    "\n",
    "#La valeur \"Production\" sont exprimées en Milliers de tonnes\n",
    "#Conversion en tonnes\n",
    "produ_manioc = 30228.0 * 1000000\n",
    "print(produ_manioc)"
   ]
  },
  {
   "cell_type": "markdown",
   "id": "89d4fd2e",
   "metadata": {
    "slideshow": {
     "slide_type": "fragment"
    }
   },
   "source": [
    "**25 Milliards** de tonnes de Manioc exportées par le Thaïlande, contre **30 Milliards de tonnes** de Manioc produite en Thaïlande."
   ]
  },
  {
   "cell_type": "code",
   "execution_count": 47,
   "id": "3e9a01d1",
   "metadata": {
    "slideshow": {
     "slide_type": "slide"
    }
   },
   "outputs": [
    {
     "data": {
      "text/plain": [
       "83.41272991928014"
      ]
     },
     "execution_count": 47,
     "metadata": {},
     "output_type": "execute_result"
    }
   ],
   "source": [
    "(export_manioc_thai/produ_manioc)*100"
   ]
  },
  {
   "cell_type": "markdown",
   "id": "e788068b",
   "metadata": {
    "slideshow": {
     "slide_type": "fragment"
    }
   },
   "source": [
    "En conclusion le Thaillande exporte plus de **83%** du Manioc produit dans son pays, Alos que **7,7%** de sa population est en sous nutrition"
   ]
  },
  {
   "cell_type": "markdown",
   "id": "d6a56530",
   "metadata": {
    "slideshow": {
     "slide_type": "skip"
    }
   },
   "source": [
    "## Les pays qui ont le plus bénéficiés d’aide depuis 2013"
   ]
  },
  {
   "cell_type": "code",
   "execution_count": 60,
   "id": "2e620836",
   "metadata": {
    "scrolled": true,
    "slideshow": {
     "slide_type": "skip"
    }
   },
   "outputs": [],
   "source": [
    "aide_alimentaire=pd.read_csv('aide_alimentaire.csv') "
   ]
  },
  {
   "cell_type": "code",
   "execution_count": 69,
   "id": "5e5cd907",
   "metadata": {
    "slideshow": {
     "slide_type": "skip"
    }
   },
   "outputs": [
    {
     "data": {
      "text/html": [
       "<div>\n",
       "<style scoped>\n",
       "    .dataframe tbody tr th:only-of-type {\n",
       "        vertical-align: middle;\n",
       "    }\n",
       "\n",
       "    .dataframe tbody tr th {\n",
       "        vertical-align: top;\n",
       "    }\n",
       "\n",
       "    .dataframe thead th {\n",
       "        text-align: right;\n",
       "    }\n",
       "</style>\n",
       "<table border=\"1\" class=\"dataframe\">\n",
       "  <thead>\n",
       "    <tr style=\"text-align: right;\">\n",
       "      <th></th>\n",
       "      <th></th>\n",
       "      <th>Valeur</th>\n",
       "    </tr>\n",
       "    <tr>\n",
       "      <th>Année</th>\n",
       "      <th>Pays bénéficiaire</th>\n",
       "      <th></th>\n",
       "    </tr>\n",
       "  </thead>\n",
       "  <tbody>\n",
       "    <tr>\n",
       "      <th>66460</th>\n",
       "      <th>Éthiopie</th>\n",
       "      <td>1381294</td>\n",
       "    </tr>\n",
       "    <tr>\n",
       "      <th>10065</th>\n",
       "      <th>Équateur</th>\n",
       "      <td>1362</td>\n",
       "    </tr>\n",
       "    <tr>\n",
       "      <th>4026</th>\n",
       "      <th>Égypte</th>\n",
       "      <td>1122</td>\n",
       "    </tr>\n",
       "    <tr>\n",
       "      <th>38263</th>\n",
       "      <th>Zimbabwe</th>\n",
       "      <td>62570</td>\n",
       "    </tr>\n",
       "    <tr>\n",
       "      <th>8054</th>\n",
       "      <th>Zambie</th>\n",
       "      <td>3026</td>\n",
       "    </tr>\n",
       "  </tbody>\n",
       "</table>\n",
       "</div>"
      ],
      "text/plain": [
       "                          Valeur\n",
       "Année Pays bénéficiaire         \n",
       "66460 Éthiopie           1381294\n",
       "10065 Équateur              1362\n",
       "4026  Égypte                1122\n",
       "38263 Zimbabwe             62570\n",
       "8054  Zambie                3026"
      ]
     },
     "execution_count": 69,
     "metadata": {},
     "output_type": "execute_result"
    }
   ],
   "source": [
    "aide_alimentaire=aide_alimentaire.groupby(by=['Pays bénéficiaire']).sum()\n",
    "pays_plus_beneficies=aide_alimentaire.sort_values(by=['Pays bénéficiaire'],ascending=False)\n",
    "\n",
    "pays_plus_beneficies.head()"
   ]
  },
  {
   "cell_type": "markdown",
   "id": "180d23e0",
   "metadata": {
    "slideshow": {
     "slide_type": "slide"
    }
   },
   "source": [
    "## Les pays ayant le plus/le moins de disponibilité/habitant"
   ]
  },
  {
   "cell_type": "code",
   "execution_count": 52,
   "id": "6131c275",
   "metadata": {
    "slideshow": {
     "slide_type": "skip"
    }
   },
   "outputs": [
    {
     "data": {
      "text/html": [
       "<div>\n",
       "<style scoped>\n",
       "    .dataframe tbody tr th:only-of-type {\n",
       "        vertical-align: middle;\n",
       "    }\n",
       "\n",
       "    .dataframe tbody tr th {\n",
       "        vertical-align: top;\n",
       "    }\n",
       "\n",
       "    .dataframe thead th {\n",
       "        text-align: right;\n",
       "    }\n",
       "</style>\n",
       "<table border=\"1\" class=\"dataframe\">\n",
       "  <thead>\n",
       "    <tr style=\"text-align: right;\">\n",
       "      <th></th>\n",
       "      <th>Zone</th>\n",
       "      <th>Produit</th>\n",
       "      <th>Origine</th>\n",
       "      <th>Aliments pour animaux</th>\n",
       "      <th>Autres Utilisations</th>\n",
       "      <th>Disponibilité alimentaire (Kcal/personne/jour)</th>\n",
       "      <th>Disponibilité alimentaire en quantité (kg/personne/an)</th>\n",
       "      <th>Disponibilité de matière grasse en quantité (g/personne/jour)</th>\n",
       "      <th>Disponibilité de protéines en quantité (g/personne/jour)</th>\n",
       "      <th>Disponibilité intérieure</th>\n",
       "      <th>Exportations - Quantité</th>\n",
       "      <th>Importations - Quantité</th>\n",
       "      <th>Nourriture</th>\n",
       "      <th>Pertes</th>\n",
       "      <th>Production</th>\n",
       "      <th>Semences</th>\n",
       "      <th>Traitement</th>\n",
       "      <th>Variation de stock</th>\n",
       "    </tr>\n",
       "  </thead>\n",
       "  <tbody>\n",
       "    <tr>\n",
       "      <th>0</th>\n",
       "      <td>Afghanistan</td>\n",
       "      <td>Abats Comestible</td>\n",
       "      <td>animale</td>\n",
       "      <td>NaN</td>\n",
       "      <td>NaN</td>\n",
       "      <td>5.0</td>\n",
       "      <td>1.72</td>\n",
       "      <td>0.20</td>\n",
       "      <td>0.77</td>\n",
       "      <td>53.0</td>\n",
       "      <td>NaN</td>\n",
       "      <td>NaN</td>\n",
       "      <td>53.0</td>\n",
       "      <td>NaN</td>\n",
       "      <td>53.0</td>\n",
       "      <td>NaN</td>\n",
       "      <td>NaN</td>\n",
       "      <td>NaN</td>\n",
       "    </tr>\n",
       "    <tr>\n",
       "      <th>1</th>\n",
       "      <td>Afghanistan</td>\n",
       "      <td>Agrumes, Autres</td>\n",
       "      <td>vegetale</td>\n",
       "      <td>NaN</td>\n",
       "      <td>NaN</td>\n",
       "      <td>1.0</td>\n",
       "      <td>1.29</td>\n",
       "      <td>0.01</td>\n",
       "      <td>0.02</td>\n",
       "      <td>41.0</td>\n",
       "      <td>2.0</td>\n",
       "      <td>40.0</td>\n",
       "      <td>39.0</td>\n",
       "      <td>2.0</td>\n",
       "      <td>3.0</td>\n",
       "      <td>NaN</td>\n",
       "      <td>NaN</td>\n",
       "      <td>NaN</td>\n",
       "    </tr>\n",
       "    <tr>\n",
       "      <th>2</th>\n",
       "      <td>Afghanistan</td>\n",
       "      <td>Aliments pour enfants</td>\n",
       "      <td>vegetale</td>\n",
       "      <td>NaN</td>\n",
       "      <td>NaN</td>\n",
       "      <td>1.0</td>\n",
       "      <td>0.06</td>\n",
       "      <td>0.01</td>\n",
       "      <td>0.03</td>\n",
       "      <td>2.0</td>\n",
       "      <td>NaN</td>\n",
       "      <td>2.0</td>\n",
       "      <td>2.0</td>\n",
       "      <td>NaN</td>\n",
       "      <td>NaN</td>\n",
       "      <td>NaN</td>\n",
       "      <td>NaN</td>\n",
       "      <td>NaN</td>\n",
       "    </tr>\n",
       "    <tr>\n",
       "      <th>3</th>\n",
       "      <td>Afghanistan</td>\n",
       "      <td>Ananas</td>\n",
       "      <td>vegetale</td>\n",
       "      <td>NaN</td>\n",
       "      <td>NaN</td>\n",
       "      <td>0.0</td>\n",
       "      <td>0.00</td>\n",
       "      <td>NaN</td>\n",
       "      <td>NaN</td>\n",
       "      <td>0.0</td>\n",
       "      <td>NaN</td>\n",
       "      <td>0.0</td>\n",
       "      <td>0.0</td>\n",
       "      <td>NaN</td>\n",
       "      <td>NaN</td>\n",
       "      <td>NaN</td>\n",
       "      <td>NaN</td>\n",
       "      <td>NaN</td>\n",
       "    </tr>\n",
       "    <tr>\n",
       "      <th>4</th>\n",
       "      <td>Afghanistan</td>\n",
       "      <td>Bananes</td>\n",
       "      <td>vegetale</td>\n",
       "      <td>NaN</td>\n",
       "      <td>NaN</td>\n",
       "      <td>4.0</td>\n",
       "      <td>2.70</td>\n",
       "      <td>0.02</td>\n",
       "      <td>0.05</td>\n",
       "      <td>82.0</td>\n",
       "      <td>NaN</td>\n",
       "      <td>82.0</td>\n",
       "      <td>82.0</td>\n",
       "      <td>NaN</td>\n",
       "      <td>NaN</td>\n",
       "      <td>NaN</td>\n",
       "      <td>NaN</td>\n",
       "      <td>NaN</td>\n",
       "    </tr>\n",
       "  </tbody>\n",
       "</table>\n",
       "</div>"
      ],
      "text/plain": [
       "          Zone                Produit   Origine  Aliments pour animaux  \\\n",
       "0  Afghanistan       Abats Comestible   animale                    NaN   \n",
       "1  Afghanistan        Agrumes, Autres  vegetale                    NaN   \n",
       "2  Afghanistan  Aliments pour enfants  vegetale                    NaN   \n",
       "3  Afghanistan                 Ananas  vegetale                    NaN   \n",
       "4  Afghanistan                Bananes  vegetale                    NaN   \n",
       "\n",
       "   Autres Utilisations  Disponibilité alimentaire (Kcal/personne/jour)  \\\n",
       "0                  NaN                                             5.0   \n",
       "1                  NaN                                             1.0   \n",
       "2                  NaN                                             1.0   \n",
       "3                  NaN                                             0.0   \n",
       "4                  NaN                                             4.0   \n",
       "\n",
       "   Disponibilité alimentaire en quantité (kg/personne/an)  \\\n",
       "0                                               1.72        \n",
       "1                                               1.29        \n",
       "2                                               0.06        \n",
       "3                                               0.00        \n",
       "4                                               2.70        \n",
       "\n",
       "   Disponibilité de matière grasse en quantité (g/personne/jour)  \\\n",
       "0                                               0.20               \n",
       "1                                               0.01               \n",
       "2                                               0.01               \n",
       "3                                                NaN               \n",
       "4                                               0.02               \n",
       "\n",
       "   Disponibilité de protéines en quantité (g/personne/jour)  \\\n",
       "0                                               0.77          \n",
       "1                                               0.02          \n",
       "2                                               0.03          \n",
       "3                                                NaN          \n",
       "4                                               0.05          \n",
       "\n",
       "   Disponibilité intérieure  Exportations - Quantité  Importations - Quantité  \\\n",
       "0                      53.0                      NaN                      NaN   \n",
       "1                      41.0                      2.0                     40.0   \n",
       "2                       2.0                      NaN                      2.0   \n",
       "3                       0.0                      NaN                      0.0   \n",
       "4                      82.0                      NaN                     82.0   \n",
       "\n",
       "   Nourriture  Pertes  Production  Semences  Traitement  Variation de stock  \n",
       "0        53.0     NaN        53.0       NaN         NaN                 NaN  \n",
       "1        39.0     2.0         3.0       NaN         NaN                 NaN  \n",
       "2         2.0     NaN         NaN       NaN         NaN                 NaN  \n",
       "3         0.0     NaN         NaN       NaN         NaN                 NaN  \n",
       "4        82.0     NaN         NaN       NaN         NaN                 NaN  "
      ]
     },
     "execution_count": 52,
     "metadata": {},
     "output_type": "execute_result"
    }
   ],
   "source": [
    "dispo_alimentaire.head()"
   ]
  },
  {
   "cell_type": "code",
   "execution_count": 53,
   "id": "68c3ea4b",
   "metadata": {
    "slideshow": {
     "slide_type": "skip"
    }
   },
   "outputs": [
    {
     "data": {
      "text/html": [
       "<div>\n",
       "<style scoped>\n",
       "    .dataframe tbody tr th:only-of-type {\n",
       "        vertical-align: middle;\n",
       "    }\n",
       "\n",
       "    .dataframe tbody tr th {\n",
       "        vertical-align: top;\n",
       "    }\n",
       "\n",
       "    .dataframe thead th {\n",
       "        text-align: right;\n",
       "    }\n",
       "</style>\n",
       "<table border=\"1\" class=\"dataframe\">\n",
       "  <thead>\n",
       "    <tr style=\"text-align: right;\">\n",
       "      <th></th>\n",
       "      <th>Disponibilité intérieure</th>\n",
       "    </tr>\n",
       "    <tr>\n",
       "      <th>Zone</th>\n",
       "      <th></th>\n",
       "    </tr>\n",
       "  </thead>\n",
       "  <tbody>\n",
       "    <tr>\n",
       "      <th>Afghanistan</th>\n",
       "      <td>13515000.0</td>\n",
       "    </tr>\n",
       "    <tr>\n",
       "      <th>Afrique du Sud</th>\n",
       "      <td>61256000.0</td>\n",
       "    </tr>\n",
       "    <tr>\n",
       "      <th>Albanie</th>\n",
       "      <td>4758000.0</td>\n",
       "    </tr>\n",
       "    <tr>\n",
       "      <th>Algérie</th>\n",
       "      <td>42630000.0</td>\n",
       "    </tr>\n",
       "    <tr>\n",
       "      <th>Allemagne</th>\n",
       "      <td>162275000.0</td>\n",
       "    </tr>\n",
       "  </tbody>\n",
       "</table>\n",
       "</div>"
      ],
      "text/plain": [
       "                Disponibilité intérieure\n",
       "Zone                                    \n",
       "Afghanistan                   13515000.0\n",
       "Afrique du Sud                61256000.0\n",
       "Albanie                        4758000.0\n",
       "Algérie                       42630000.0\n",
       "Allemagne                    162275000.0"
      ]
     },
     "execution_count": 53,
     "metadata": {},
     "output_type": "execute_result"
    }
   ],
   "source": [
    "# disponibilité alimentaire kcal/an\n",
    "df=dispo_alimentaire[['Zone', 'Disponibilité intérieure']].groupby(['Zone']).sum()\n",
    "df['Disponibilité intérieure']=df['Disponibilité intérieure']*1000\n",
    "df.head()"
   ]
  },
  {
   "cell_type": "code",
   "execution_count": 54,
   "id": "2826c0b0",
   "metadata": {
    "slideshow": {
     "slide_type": "skip"
    }
   },
   "outputs": [
    {
     "name": "stderr",
     "output_type": "stream",
     "text": [
      "C:\\Users\\asmaa\\AppData\\Local\\Temp/ipykernel_2244/988344562.py:1: SettingWithCopyWarning: \n",
      "A value is trying to be set on a copy of a slice from a DataFrame.\n",
      "Try using .loc[row_indexer,col_indexer] = value instead\n",
      "\n",
      "See the caveats in the documentation: https://pandas.pydata.org/pandas-docs/stable/user_guide/indexing.html#returning-a-view-versus-a-copy\n",
      "  population17['Valeur']=population17['Valeur']*1000\n"
     ]
    },
    {
     "data": {
      "text/html": [
       "<div>\n",
       "<style scoped>\n",
       "    .dataframe tbody tr th:only-of-type {\n",
       "        vertical-align: middle;\n",
       "    }\n",
       "\n",
       "    .dataframe tbody tr th {\n",
       "        vertical-align: top;\n",
       "    }\n",
       "\n",
       "    .dataframe thead th {\n",
       "        text-align: right;\n",
       "    }\n",
       "</style>\n",
       "<table border=\"1\" class=\"dataframe\">\n",
       "  <thead>\n",
       "    <tr style=\"text-align: right;\">\n",
       "      <th></th>\n",
       "      <th>Zone</th>\n",
       "      <th>Année</th>\n",
       "      <th>Valeur</th>\n",
       "      <th>ratio_dispo_habitant</th>\n",
       "    </tr>\n",
       "  </thead>\n",
       "  <tbody>\n",
       "    <tr>\n",
       "      <th>4</th>\n",
       "      <td>Afghanistan</td>\n",
       "      <td>2017</td>\n",
       "      <td>36296113.0</td>\n",
       "      <td></td>\n",
       "    </tr>\n",
       "    <tr>\n",
       "      <th>10</th>\n",
       "      <td>Afrique du Sud</td>\n",
       "      <td>2017</td>\n",
       "      <td>57009756.0</td>\n",
       "      <td></td>\n",
       "    </tr>\n",
       "    <tr>\n",
       "      <th>16</th>\n",
       "      <td>Albanie</td>\n",
       "      <td>2017</td>\n",
       "      <td>2884169.0</td>\n",
       "      <td></td>\n",
       "    </tr>\n",
       "    <tr>\n",
       "      <th>22</th>\n",
       "      <td>Algérie</td>\n",
       "      <td>2017</td>\n",
       "      <td>41389189.0</td>\n",
       "      <td></td>\n",
       "    </tr>\n",
       "    <tr>\n",
       "      <th>28</th>\n",
       "      <td>Allemagne</td>\n",
       "      <td>2017</td>\n",
       "      <td>82658409.0</td>\n",
       "      <td></td>\n",
       "    </tr>\n",
       "  </tbody>\n",
       "</table>\n",
       "</div>"
      ],
      "text/plain": [
       "              Zone  Année      Valeur ratio_dispo_habitant\n",
       "4      Afghanistan   2017  36296113.0                     \n",
       "10  Afrique du Sud   2017  57009756.0                     \n",
       "16         Albanie   2017   2884169.0                     \n",
       "22         Algérie   2017  41389189.0                     \n",
       "28       Allemagne   2017  82658409.0                     "
      ]
     },
     "execution_count": 54,
     "metadata": {},
     "output_type": "execute_result"
    }
   ],
   "source": [
    "population17['Valeur']=population17['Valeur']*1000\n",
    "population17.insert(3,'ratio_dispo_habitant','')\n",
    "population17.head()\n"
   ]
  },
  {
   "cell_type": "code",
   "execution_count": 55,
   "id": "dedc64b4",
   "metadata": {
    "slideshow": {
     "slide_type": "skip"
    }
   },
   "outputs": [
    {
     "data": {
      "text/html": [
       "<div>\n",
       "<style scoped>\n",
       "    .dataframe tbody tr th:only-of-type {\n",
       "        vertical-align: middle;\n",
       "    }\n",
       "\n",
       "    .dataframe tbody tr th {\n",
       "        vertical-align: top;\n",
       "    }\n",
       "\n",
       "    .dataframe thead th {\n",
       "        text-align: right;\n",
       "    }\n",
       "</style>\n",
       "<table border=\"1\" class=\"dataframe\">\n",
       "  <thead>\n",
       "    <tr style=\"text-align: right;\">\n",
       "      <th></th>\n",
       "      <th>Zone</th>\n",
       "      <th>Disponibilité intérieure</th>\n",
       "      <th>Année</th>\n",
       "      <th>Valeur</th>\n",
       "      <th>ratio_dispo_habitant</th>\n",
       "    </tr>\n",
       "  </thead>\n",
       "  <tbody>\n",
       "    <tr>\n",
       "      <th>0</th>\n",
       "      <td>Afghanistan</td>\n",
       "      <td>13515000.0</td>\n",
       "      <td>2017</td>\n",
       "      <td>36296113.0</td>\n",
       "      <td></td>\n",
       "    </tr>\n",
       "    <tr>\n",
       "      <th>1</th>\n",
       "      <td>Afrique du Sud</td>\n",
       "      <td>61256000.0</td>\n",
       "      <td>2017</td>\n",
       "      <td>57009756.0</td>\n",
       "      <td></td>\n",
       "    </tr>\n",
       "    <tr>\n",
       "      <th>2</th>\n",
       "      <td>Albanie</td>\n",
       "      <td>4758000.0</td>\n",
       "      <td>2017</td>\n",
       "      <td>2884169.0</td>\n",
       "      <td></td>\n",
       "    </tr>\n",
       "    <tr>\n",
       "      <th>3</th>\n",
       "      <td>Algérie</td>\n",
       "      <td>42630000.0</td>\n",
       "      <td>2017</td>\n",
       "      <td>41389189.0</td>\n",
       "      <td></td>\n",
       "    </tr>\n",
       "    <tr>\n",
       "      <th>4</th>\n",
       "      <td>Allemagne</td>\n",
       "      <td>162275000.0</td>\n",
       "      <td>2017</td>\n",
       "      <td>82658409.0</td>\n",
       "      <td></td>\n",
       "    </tr>\n",
       "  </tbody>\n",
       "</table>\n",
       "</div>"
      ],
      "text/plain": [
       "             Zone  Disponibilité intérieure  Année      Valeur  \\\n",
       "0     Afghanistan                13515000.0   2017  36296113.0   \n",
       "1  Afrique du Sud                61256000.0   2017  57009756.0   \n",
       "2         Albanie                 4758000.0   2017   2884169.0   \n",
       "3         Algérie                42630000.0   2017  41389189.0   \n",
       "4       Allemagne               162275000.0   2017  82658409.0   \n",
       "\n",
       "  ratio_dispo_habitant  \n",
       "0                       \n",
       "1                       \n",
       "2                       \n",
       "3                       \n",
       "4                       "
      ]
     },
     "execution_count": 55,
     "metadata": {},
     "output_type": "execute_result"
    }
   ],
   "source": [
    "df=pd.merge(df,population17, on='Zone')\n",
    "df.head()"
   ]
  },
  {
   "cell_type": "code",
   "execution_count": 58,
   "id": "75d9de58",
   "metadata": {
    "scrolled": true,
    "slideshow": {
     "slide_type": "fragment"
    }
   },
   "outputs": [
    {
     "data": {
      "text/html": [
       "<div>\n",
       "<style scoped>\n",
       "    .dataframe tbody tr th:only-of-type {\n",
       "        vertical-align: middle;\n",
       "    }\n",
       "\n",
       "    .dataframe tbody tr th {\n",
       "        vertical-align: top;\n",
       "    }\n",
       "\n",
       "    .dataframe thead th {\n",
       "        text-align: right;\n",
       "    }\n",
       "</style>\n",
       "<table border=\"1\" class=\"dataframe\">\n",
       "  <thead>\n",
       "    <tr style=\"text-align: right;\">\n",
       "      <th></th>\n",
       "      <th>Zone</th>\n",
       "      <th>Disponibilité intérieure</th>\n",
       "      <th>Année</th>\n",
       "      <th>Valeur</th>\n",
       "      <th>ratio_dispo_habitant</th>\n",
       "    </tr>\n",
       "  </thead>\n",
       "  <tbody>\n",
       "    <tr>\n",
       "      <th>163</th>\n",
       "      <td>Yémen</td>\n",
       "      <td>9782000.0</td>\n",
       "      <td>2017</td>\n",
       "      <td>27834819.0</td>\n",
       "      <td>2.845514</td>\n",
       "    </tr>\n",
       "    <tr>\n",
       "      <th>150</th>\n",
       "      <td>Tchad</td>\n",
       "      <td>5304000.0</td>\n",
       "      <td>2017</td>\n",
       "      <td>15016753.0</td>\n",
       "      <td>2.831213</td>\n",
       "    </tr>\n",
       "    <tr>\n",
       "      <th>152</th>\n",
       "      <td>Timor-Leste</td>\n",
       "      <td>447000.0</td>\n",
       "      <td>2017</td>\n",
       "      <td>1243258.0</td>\n",
       "      <td>2.781338</td>\n",
       "    </tr>\n",
       "    <tr>\n",
       "      <th>0</th>\n",
       "      <td>Afghanistan</td>\n",
       "      <td>13515000.0</td>\n",
       "      <td>2017</td>\n",
       "      <td>36296113.0</td>\n",
       "      <td>2.685617</td>\n",
       "    </tr>\n",
       "    <tr>\n",
       "      <th>170</th>\n",
       "      <td>Éthiopie</td>\n",
       "      <td>44014000.0</td>\n",
       "      <td>2017</td>\n",
       "      <td>106399924.0</td>\n",
       "      <td>2.417411</td>\n",
       "    </tr>\n",
       "    <tr>\n",
       "      <th>56</th>\n",
       "      <td>Gambie</td>\n",
       "      <td>940000.0</td>\n",
       "      <td>2017</td>\n",
       "      <td>2213889.0</td>\n",
       "      <td>2.355201</td>\n",
       "    </tr>\n",
       "    <tr>\n",
       "      <th>87</th>\n",
       "      <td>Libéria</td>\n",
       "      <td>2002000.0</td>\n",
       "      <td>2017</td>\n",
       "      <td>4702226.0</td>\n",
       "      <td>2.348764</td>\n",
       "    </tr>\n",
       "    <tr>\n",
       "      <th>62</th>\n",
       "      <td>Guinée-Bissau</td>\n",
       "      <td>786000.0</td>\n",
       "      <td>2017</td>\n",
       "      <td>1828145.0</td>\n",
       "      <td>2.325884</td>\n",
       "    </tr>\n",
       "    <tr>\n",
       "      <th>14</th>\n",
       "      <td>Bangladesh</td>\n",
       "      <td>72757000.0</td>\n",
       "      <td>2017</td>\n",
       "      <td>159685424.0</td>\n",
       "      <td>2.194777</td>\n",
       "    </tr>\n",
       "    <tr>\n",
       "      <th>84</th>\n",
       "      <td>Lesotho</td>\n",
       "      <td>966000.0</td>\n",
       "      <td>2017</td>\n",
       "      <td>2091534.0</td>\n",
       "      <td>2.165149</td>\n",
       "    </tr>\n",
       "  </tbody>\n",
       "</table>\n",
       "</div>"
      ],
      "text/plain": [
       "              Zone  Disponibilité intérieure  Année       Valeur  \\\n",
       "163          Yémen                 9782000.0   2017   27834819.0   \n",
       "150          Tchad                 5304000.0   2017   15016753.0   \n",
       "152    Timor-Leste                  447000.0   2017    1243258.0   \n",
       "0      Afghanistan                13515000.0   2017   36296113.0   \n",
       "170       Éthiopie                44014000.0   2017  106399924.0   \n",
       "56          Gambie                  940000.0   2017    2213889.0   \n",
       "87         Libéria                 2002000.0   2017    4702226.0   \n",
       "62   Guinée-Bissau                  786000.0   2017    1828145.0   \n",
       "14      Bangladesh                72757000.0   2017  159685424.0   \n",
       "84         Lesotho                  966000.0   2017    2091534.0   \n",
       "\n",
       "     ratio_dispo_habitant  \n",
       "163              2.845514  \n",
       "150              2.831213  \n",
       "152              2.781338  \n",
       "0                2.685617  \n",
       "170              2.417411  \n",
       "56               2.355201  \n",
       "87               2.348764  \n",
       "62               2.325884  \n",
       "14               2.194777  \n",
       "84               2.165149  "
      ]
     },
     "execution_count": 58,
     "metadata": {},
     "output_type": "execute_result"
    }
   ],
   "source": [
    "df['ratio_dispo_habitant']=df['Valeur']/df['Disponibilité intérieure']\n",
    "df.sort_values(by=['ratio_dispo_habitant'], ascending=False, inplace=True) \n",
    "df.head(10)"
   ]
  },
  {
   "cell_type": "markdown",
   "id": "ab6533af",
   "metadata": {
    "slideshow": {
     "slide_type": "fragment"
    }
   },
   "source": [
    "Les pays ayont le plus de disponibilité intérieure par abitant."
   ]
  },
  {
   "cell_type": "code",
   "execution_count": 59,
   "id": "bbea7f44",
   "metadata": {
    "scrolled": true,
    "slideshow": {
     "slide_type": "slide"
    }
   },
   "outputs": [
    {
     "data": {
      "text/html": [
       "<div>\n",
       "<style scoped>\n",
       "    .dataframe tbody tr th:only-of-type {\n",
       "        vertical-align: middle;\n",
       "    }\n",
       "\n",
       "    .dataframe tbody tr th {\n",
       "        vertical-align: top;\n",
       "    }\n",
       "\n",
       "    .dataframe thead th {\n",
       "        text-align: right;\n",
       "    }\n",
       "</style>\n",
       "<table border=\"1\" class=\"dataframe\">\n",
       "  <thead>\n",
       "    <tr style=\"text-align: right;\">\n",
       "      <th></th>\n",
       "      <th>Zone</th>\n",
       "      <th>Disponibilité intérieure</th>\n",
       "      <th>Année</th>\n",
       "      <th>Valeur</th>\n",
       "      <th>ratio_dispo_habitant</th>\n",
       "    </tr>\n",
       "  </thead>\n",
       "  <tbody>\n",
       "    <tr>\n",
       "      <th>50</th>\n",
       "      <td>Eswatini</td>\n",
       "      <td>6.467000e+06</td>\n",
       "      <td>2017</td>\n",
       "      <td>1124805.0</td>\n",
       "      <td>0.173930</td>\n",
       "    </tr>\n",
       "    <tr>\n",
       "      <th>23</th>\n",
       "      <td>Brésil</td>\n",
       "      <td>1.033314e+09</td>\n",
       "      <td>2017</td>\n",
       "      <td>207833823.0</td>\n",
       "      <td>0.201133</td>\n",
       "    </tr>\n",
       "    <tr>\n",
       "      <th>63</th>\n",
       "      <td>Guyana</td>\n",
       "      <td>3.290000e+06</td>\n",
       "      <td>2017</td>\n",
       "      <td>775222.0</td>\n",
       "      <td>0.235630</td>\n",
       "    </tr>\n",
       "    <tr>\n",
       "      <th>17</th>\n",
       "      <td>Belize</td>\n",
       "      <td>1.542000e+06</td>\n",
       "      <td>2017</td>\n",
       "      <td>375769.0</td>\n",
       "      <td>0.243689</td>\n",
       "    </tr>\n",
       "    <tr>\n",
       "      <th>98</th>\n",
       "      <td>Maurice</td>\n",
       "      <td>4.767000e+06</td>\n",
       "      <td>2017</td>\n",
       "      <td>1264499.0</td>\n",
       "      <td>0.265261</td>\n",
       "    </tr>\n",
       "    <tr>\n",
       "      <th>44</th>\n",
       "      <td>Danemark</td>\n",
       "      <td>1.974900e+07</td>\n",
       "      <td>2017</td>\n",
       "      <td>5732274.0</td>\n",
       "      <td>0.290256</td>\n",
       "    </tr>\n",
       "    <tr>\n",
       "      <th>26</th>\n",
       "      <td>Bélarus</td>\n",
       "      <td>2.752200e+07</td>\n",
       "      <td>2017</td>\n",
       "      <td>9450231.0</td>\n",
       "      <td>0.343370</td>\n",
       "    </tr>\n",
       "    <tr>\n",
       "      <th>51</th>\n",
       "      <td>Fidji</td>\n",
       "      <td>2.499000e+06</td>\n",
       "      <td>2017</td>\n",
       "      <td>877459.0</td>\n",
       "      <td>0.351124</td>\n",
       "    </tr>\n",
       "    <tr>\n",
       "      <th>10</th>\n",
       "      <td>Australie</td>\n",
       "      <td>6.699200e+07</td>\n",
       "      <td>2017</td>\n",
       "      <td>24584620.0</td>\n",
       "      <td>0.366978</td>\n",
       "    </tr>\n",
       "    <tr>\n",
       "      <th>88</th>\n",
       "      <td>Lituanie</td>\n",
       "      <td>7.467000e+06</td>\n",
       "      <td>2017</td>\n",
       "      <td>2845414.0</td>\n",
       "      <td>0.381065</td>\n",
       "    </tr>\n",
       "  </tbody>\n",
       "</table>\n",
       "</div>"
      ],
      "text/plain": [
       "         Zone  Disponibilité intérieure  Année       Valeur  \\\n",
       "50   Eswatini              6.467000e+06   2017    1124805.0   \n",
       "23     Brésil              1.033314e+09   2017  207833823.0   \n",
       "63     Guyana              3.290000e+06   2017     775222.0   \n",
       "17     Belize              1.542000e+06   2017     375769.0   \n",
       "98    Maurice              4.767000e+06   2017    1264499.0   \n",
       "44   Danemark              1.974900e+07   2017    5732274.0   \n",
       "26    Bélarus              2.752200e+07   2017    9450231.0   \n",
       "51      Fidji              2.499000e+06   2017     877459.0   \n",
       "10  Australie              6.699200e+07   2017   24584620.0   \n",
       "88   Lituanie              7.467000e+06   2017    2845414.0   \n",
       "\n",
       "    ratio_dispo_habitant  \n",
       "50              0.173930  \n",
       "23              0.201133  \n",
       "63              0.235630  \n",
       "17              0.243689  \n",
       "98              0.265261  \n",
       "44              0.290256  \n",
       "26              0.343370  \n",
       "51              0.351124  \n",
       "10              0.366978  \n",
       "88              0.381065  "
      ]
     },
     "execution_count": 59,
     "metadata": {},
     "output_type": "execute_result"
    }
   ],
   "source": [
    "df.sort_values(by=['ratio_dispo_habitant'], ascending=True, inplace=True) \n",
    "df.head(10)"
   ]
  },
  {
   "cell_type": "markdown",
   "id": "ba26b3bb",
   "metadata": {
    "slideshow": {
     "slide_type": "fragment"
    }
   },
   "source": [
    "Les pays ayont le moins de disponibilité intérieure par abitant."
   ]
  },
  {
   "cell_type": "markdown",
   "id": "1b74ecec",
   "metadata": {
    "slideshow": {
     "slide_type": "slide"
    }
   },
   "source": [
    "# Conclusion "
   ]
  },
  {
   "cell_type": "markdown",
   "id": "dcf32786",
   "metadata": {
    "slideshow": {
     "slide_type": "fragment"
    }
   },
   "source": [
    "A partir de cette analyse et selon le rapport de la FAO on peut déduidre que la faim dans le monde est malheureusement en hausse. Chaque jour, plus de 800 millions de personnes cherchent désespérément à se procurer un peu de nourriture et risquent de mourir de faim. \n",
    "\n",
    "La mission Faim Zero vise à ramener ce chiffre ahurissant à ZÉRO.\n",
    "\n",
    "La FAIM ZÉRO est le deuxième des 17 Objectifs de développement durable (ODD) fixés par l’ONU et soutenus par toutes les organisations du système des Nations Unies.\n",
    "\n",
    "**Mais est ce qu'on est actuellement dans la mesure d'atteindre cet objectif?!**\n"
   ]
  },
  {
   "cell_type": "markdown",
   "id": "f6720f15",
   "metadata": {
    "slideshow": {
     "slide_type": "slide"
    }
   },
   "source": [
    "\n",
    "- La pandèmie covid-19 qui a agi comme amplificateur, En 2020, la faim a grimpé en flèche en termes absolus et proportionnels, dépassant la croissance démographique : OMS estime qu'environ 9,9 % de l'ensemble de la population était sous-alimentée en 2020.\n",
    "- La guerre en Ukraine menace la sécurité alimentaire, ce conflit armé affectera forcément les fonctionnements des marchés céréaliers et des marchés des fertilisants.\n",
    "\n",
    "Compte tenu de ces dernières causes imprèvue, il faudra un effort considérable pour parvenir à honorer l'engagement qui a été pris pour atteindre les objectifs fixés pour les indicateurs nutritionnels d'ici à 2030."
   ]
  }
 ],
 "metadata": {
  "celltoolbar": "Diaporama",
  "kernelspec": {
   "display_name": "Python 3 (ipykernel)",
   "language": "python",
   "name": "python3"
  },
  "language_info": {
   "codemirror_mode": {
    "name": "ipython",
    "version": 3
   },
   "file_extension": ".py",
   "mimetype": "text/x-python",
   "name": "python",
   "nbconvert_exporter": "python",
   "pygments_lexer": "ipython3",
   "version": "3.9.7"
  },
  "toc": {
   "base_numbering": 1,
   "nav_menu": {
    "height": "591px",
    "width": "666px"
   },
   "number_sections": true,
   "sideBar": true,
   "skip_h1_title": false,
   "title_cell": "Table of Contents",
   "title_sidebar": "Contents",
   "toc_cell": false,
   "toc_position": {},
   "toc_section_display": true,
   "toc_window_display": false
  }
 },
 "nbformat": 4,
 "nbformat_minor": 5
}
